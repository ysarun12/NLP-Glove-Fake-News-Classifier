{
 "cells": [
  {
   "cell_type": "code",
   "execution_count": 49,
   "id": "30f585e3",
   "metadata": {},
   "outputs": [],
   "source": [
    "import spacy"
   ]
  },
  {
   "cell_type": "code",
   "execution_count": 50,
   "id": "f0bf8539",
   "metadata": {},
   "outputs": [],
   "source": [
    "nlp = spacy.load('en_core_web_lg')"
   ]
  },
  {
   "cell_type": "code",
   "execution_count": 51,
   "id": "29da9403",
   "metadata": {},
   "outputs": [
    {
     "name": "stdout",
     "output_type": "stream",
     "text": [
      "dog Vector: True OOV: False\n",
      "cat Vector: True OOV: False\n",
      "banana Vector: True OOV: False\n",
      "kem Vector: False OOV: True\n"
     ]
    }
   ],
   "source": [
    "doc = nlp(\"dog cat banana kem\")\n",
    "\n",
    "# now we will prin each word in doc, check whether it has a vecor or not and also check whether the word is\n",
    "# out of vocabulary (OOV). en_core_web_lg was trained/built using all the wikipedia articles (vocabulary) set\n",
    "\n",
    "for token in doc:\n",
    "    print(token.text, 'Vector:', token.has_vector, 'OOV:', token.is_oov)"
   ]
  },
  {
   "cell_type": "code",
   "execution_count": 54,
   "id": "9f41bcd4",
   "metadata": {},
   "outputs": [
    {
     "data": {
      "text/plain": [
       "dog cat banana kem"
      ]
     },
     "execution_count": 54,
     "metadata": {},
     "output_type": "execute_result"
    }
   ],
   "source": [
    "doc"
   ]
  },
  {
   "cell_type": "code",
   "execution_count": 53,
   "id": "12019ab5",
   "metadata": {},
   "outputs": [
    {
     "data": {
      "text/plain": [
       "spacy.tokens.doc.Doc"
      ]
     },
     "execution_count": 53,
     "metadata": {},
     "output_type": "execute_result"
    }
   ],
   "source": [
    "type(doc)"
   ]
  },
  {
   "cell_type": "code",
   "execution_count": 55,
   "id": "f62625cb",
   "metadata": {},
   "outputs": [
    {
     "data": {
      "text/plain": [
       "dog"
      ]
     },
     "execution_count": 55,
     "metadata": {},
     "output_type": "execute_result"
    }
   ],
   "source": [
    "doc[0]"
   ]
  },
  {
   "cell_type": "code",
   "execution_count": 7,
   "id": "91b1064d",
   "metadata": {},
   "outputs": [
    {
     "data": {
      "text/plain": [
       "array([ 1.2330e+00,  4.2963e+00, -7.9738e+00, -1.0121e+01,  1.8207e+00,\n",
       "        1.4098e+00, -4.5180e+00, -5.2261e+00, -2.9157e-01,  9.5234e-01,\n",
       "        6.9880e+00,  5.0637e+00, -5.5726e-03,  3.3395e+00,  6.4596e+00,\n",
       "       -6.3742e+00,  3.9045e-02, -3.9855e+00,  1.2085e+00, -1.3186e+00,\n",
       "       -4.8886e+00,  3.7066e+00, -2.8281e+00, -3.5447e+00,  7.6888e-01,\n",
       "        1.5016e+00, -4.3632e+00,  8.6480e+00, -5.9286e+00, -1.3055e+00,\n",
       "        8.3870e-01,  9.0137e-01, -1.7843e+00, -1.0148e+00,  2.7300e+00,\n",
       "       -6.9039e+00,  8.0413e-01,  7.4880e+00,  6.1078e+00, -4.2130e+00,\n",
       "       -1.5384e-01, -5.4995e+00,  1.0896e+01,  3.9278e+00, -1.3601e-01,\n",
       "        7.7732e-02,  3.2218e+00, -5.8777e+00,  6.1359e-01, -2.4287e+00,\n",
       "        6.2820e+00,  1.3461e+01,  4.3236e+00,  2.4266e+00, -2.6512e+00,\n",
       "        1.1577e+00,  5.0848e+00, -1.7058e+00,  3.3824e+00,  3.2850e+00,\n",
       "        1.0969e+00, -8.3711e+00, -1.5554e+00,  2.0296e+00, -2.6796e+00,\n",
       "       -6.9195e+00, -2.3386e+00, -1.9916e+00, -3.0450e+00,  2.4890e+00,\n",
       "        7.3247e+00,  1.3364e+00,  2.3828e-01,  8.4388e-02,  3.1480e+00,\n",
       "       -1.1128e+00, -3.5598e+00, -1.2115e-01, -2.0357e+00, -3.2731e+00,\n",
       "       -7.7205e+00,  4.0948e+00, -2.0732e+00,  2.0833e+00, -2.2803e+00,\n",
       "       -4.9850e+00,  9.7667e+00,  6.1779e+00, -1.0352e+01, -2.2268e+00,\n",
       "        2.5765e+00, -5.7440e+00,  5.5564e+00, -5.2735e+00,  3.0004e+00,\n",
       "       -4.2512e+00, -1.5682e+00,  2.2698e+00,  1.0491e+00, -9.0486e+00,\n",
       "        4.2936e+00,  1.8709e+00,  5.1985e+00, -1.3153e+00,  6.5224e+00,\n",
       "        4.0113e-01, -1.2583e+01,  3.6534e+00, -2.0961e+00,  1.0022e+00,\n",
       "       -1.7873e+00, -4.2555e+00,  7.7471e+00,  1.0173e+00,  3.1626e+00,\n",
       "        2.3558e+00,  3.3589e-01, -4.4178e+00,  5.0584e+00, -2.4118e+00,\n",
       "       -2.7445e+00,  3.4170e+00, -1.1574e+01, -2.6568e+00, -3.6933e+00,\n",
       "       -2.0398e+00,  5.0976e+00,  6.5249e+00,  3.3573e+00,  9.5334e-01,\n",
       "       -9.4430e-01, -9.4395e+00,  2.7867e+00, -1.7549e+00,  1.7287e+00,\n",
       "        3.4942e+00, -1.6883e+00, -3.5771e+00, -1.9013e+00,  2.2239e+00,\n",
       "       -5.4335e+00, -6.5724e+00, -6.7228e-01, -1.9748e+00, -3.1080e+00,\n",
       "       -1.8570e+00,  9.9496e-01,  8.9135e-01, -4.4254e+00,  3.3125e-01,\n",
       "        5.8815e+00,  1.9384e+00,  5.7294e-01, -2.8830e+00,  3.8087e+00,\n",
       "       -1.3095e+00,  5.9208e+00,  3.3620e+00,  3.3571e+00, -3.8807e-01,\n",
       "        9.0022e-01, -5.5742e+00, -4.2939e+00,  1.4992e+00, -4.7080e+00,\n",
       "       -2.9402e+00, -1.2259e+00,  3.0980e-01,  1.8858e+00, -1.9867e+00,\n",
       "       -2.3554e-01, -5.4535e-01, -2.1387e-01,  2.4797e+00,  5.9710e+00,\n",
       "       -7.1249e+00,  1.6257e+00, -1.5241e+00,  7.5974e-01,  1.4312e+00,\n",
       "        2.3641e+00, -3.5566e+00,  9.2066e-01,  4.4934e-01, -1.3233e+00,\n",
       "        3.1733e+00, -4.7059e+00, -1.2090e+01, -3.9241e-01, -6.8457e-01,\n",
       "       -3.6789e+00,  6.6279e+00, -2.9937e+00, -3.8361e+00,  1.3868e+00,\n",
       "       -4.9002e+00, -2.4299e+00,  6.4312e+00,  2.5056e+00, -4.5080e+00,\n",
       "       -5.1278e+00, -1.5585e+00, -3.0226e+00, -8.6811e-01, -1.1538e+00,\n",
       "       -1.0022e+00, -9.1651e-01, -4.7810e-01, -1.6084e+00, -2.7307e+00,\n",
       "        3.7080e+00,  7.7423e-01, -1.1085e+00, -6.8755e-01, -8.2901e+00,\n",
       "        3.2405e+00, -1.6108e-01, -6.2837e-01, -5.5960e+00, -4.4865e+00,\n",
       "        4.0115e-01, -3.7063e+00, -2.1704e+00,  4.0789e+00, -1.7973e+00,\n",
       "        8.9538e+00,  8.9421e-01, -4.8128e+00,  4.5367e+00, -3.2579e-01,\n",
       "       -5.2344e+00, -3.9766e+00, -2.1979e+00,  3.5699e+00,  1.4982e+00,\n",
       "        6.0972e+00, -1.9704e+00,  4.6522e+00, -3.7734e-01,  3.9101e-02,\n",
       "        2.5361e+00, -1.8096e+00,  8.7035e+00, -8.6372e+00, -3.5257e+00,\n",
       "        3.1034e+00,  3.2635e+00,  4.5437e+00, -5.7290e+00, -2.9141e-01,\n",
       "       -2.0011e+00,  8.5328e+00, -4.5064e+00, -4.8276e+00, -1.1786e+01,\n",
       "        3.5607e-01, -5.7115e+00,  6.3122e+00, -3.6650e+00,  3.3597e-01,\n",
       "        2.5017e+00, -3.5025e+00, -3.7891e+00, -3.1343e+00, -1.4429e+00,\n",
       "       -6.9119e+00, -2.6114e+00, -5.9757e-01,  3.7847e-01,  6.3187e+00,\n",
       "        2.8965e+00, -2.5397e+00,  1.8022e+00,  3.5486e+00,  4.4721e+00,\n",
       "       -4.8481e+00, -3.6252e+00,  4.0969e+00, -2.0081e+00, -2.0122e-01,\n",
       "        2.5244e+00, -6.8817e-01,  6.7184e-01, -7.0466e+00,  1.6641e+00,\n",
       "       -2.2308e+00, -3.8960e+00,  6.1320e+00, -8.0335e+00, -1.7130e+00,\n",
       "        2.5688e+00, -5.2547e+00,  6.9845e+00,  2.7835e-01, -6.4554e+00,\n",
       "       -2.1327e+00, -5.6515e+00,  1.1174e+01, -8.0568e+00,  5.7985e+00],\n",
       "      dtype=float32)"
      ]
     },
     "execution_count": 7,
     "metadata": {},
     "output_type": "execute_result"
    }
   ],
   "source": [
    "doc[0].vector"
   ]
  },
  {
   "cell_type": "code",
   "execution_count": 9,
   "id": "006a6ad4",
   "metadata": {},
   "outputs": [
    {
     "data": {
      "text/plain": [
       "(300,)"
      ]
     },
     "execution_count": 9,
     "metadata": {},
     "output_type": "execute_result"
    }
   ],
   "source": [
    "doc[0].vector.shape"
   ]
  },
  {
   "cell_type": "code",
   "execution_count": 10,
   "id": "d9e0ad12",
   "metadata": {},
   "outputs": [
    {
     "data": {
      "text/plain": [
       "(300,)"
      ]
     },
     "execution_count": 10,
     "metadata": {},
     "output_type": "execute_result"
    }
   ],
   "source": [
    "base_token = nlp('bread')\n",
    "base_token[0].vector.shape"
   ]
  },
  {
   "cell_type": "code",
   "execution_count": 11,
   "id": "073c1f30",
   "metadata": {},
   "outputs": [
    {
     "name": "stdout",
     "output_type": "stream",
     "text": [
      "bread <-> bread: 1.0\n",
      "sandwich <-> bread: 0.6341067552566528\n",
      "burger <-> bread: 0.4752069115638733\n",
      "car <-> bread: 0.06451533734798431\n",
      "tiger <-> bread: 0.047646112740039825\n",
      "human <-> bread: 0.21511542797088623\n",
      "wheat <-> bread: 0.615036129951477\n"
     ]
    }
   ],
   "source": [
    "doc = nlp(\"bread sandwich burger car tiger human wheat\")\n",
    "\n",
    "# en_core_web_lg has been trained on ALL the entries/articles on\n",
    "# wikipedia, then in that huge text dataset if the words appear in similar context then similarity value will be \n",
    "# higher. So the similarity is based on words appearing in similar contexts in that dataset and because of that\n",
    "# the similarity value itself will depend upon the dataset that was used to create the vectors for each word.\n",
    "# Actually the vectors that are generated for each word will also depend on the dataset the en_core_web_lg\n",
    "# is trained on\n",
    "\n",
    "for token in doc:\n",
    "    print(f'{token.text} <-> {base_token.text}:', token.similarity(base_token[0]))"
   ]
  },
  {
   "cell_type": "code",
   "execution_count": 12,
   "id": "888dcb4e",
   "metadata": {},
   "outputs": [],
   "source": [
    "def print_similarity(base_word, words_to_compare):\n",
    "    base_token = nlp(base_word)\n",
    "    doc = nlp(words_to_compare)\n",
    "    for token in doc:\n",
    "        print(f'{token.text} <-> {base_token.text}:', token.similarity(base_token))"
   ]
  },
  {
   "cell_type": "code",
   "execution_count": 13,
   "id": "50c5db62",
   "metadata": {},
   "outputs": [
    {
     "name": "stdout",
     "output_type": "stream",
     "text": [
      "apple <-> iphone: 0.4387907748060368\n",
      "samsung <-> iphone: 0.6708590303423401\n",
      "iphone <-> iphone: 0.9999999983096304\n",
      "dog <-> iphone: 0.08211864228011527\n",
      "kitten <-> iphone: 0.10222317834969896\n"
     ]
    }
   ],
   "source": [
    "print_similarity(\"iphone\", \"apple samsung iphone dog kitten\")"
   ]
  },
  {
   "cell_type": "code",
   "execution_count": 15,
   "id": "6fa0b473",
   "metadata": {},
   "outputs": [],
   "source": [
    "king = nlp.vocab['king'].vector\n",
    "man = nlp.vocab['man'].vector\n",
    "woman = nlp.vocab['woman'].vector\n",
    "queen = nlp.vocab['queen'].vector\n",
    "\n",
    "result = king - man + woman"
   ]
  },
  {
   "cell_type": "code",
   "execution_count": 16,
   "id": "7c452694",
   "metadata": {},
   "outputs": [
    {
     "data": {
      "text/plain": [
       "array([[0.6178014]], dtype=float32)"
      ]
     },
     "execution_count": 16,
     "metadata": {},
     "output_type": "execute_result"
    }
   ],
   "source": [
    "from sklearn.metrics.pairwise import cosine_similarity\n",
    "\n",
    "cosine_similarity([result], [queen])"
   ]
  },
  {
   "cell_type": "markdown",
   "id": "c64990e4",
   "metadata": {},
   "source": [
    "## Fake news classifier"
   ]
  },
  {
   "cell_type": "code",
   "execution_count": 57,
   "id": "935b6703",
   "metadata": {},
   "outputs": [
    {
     "data": {
      "text/html": [
       "<div>\n",
       "<style scoped>\n",
       "    .dataframe tbody tr th:only-of-type {\n",
       "        vertical-align: middle;\n",
       "    }\n",
       "\n",
       "    .dataframe tbody tr th {\n",
       "        vertical-align: top;\n",
       "    }\n",
       "\n",
       "    .dataframe thead th {\n",
       "        text-align: right;\n",
       "    }\n",
       "</style>\n",
       "<table border=\"1\" class=\"dataframe\">\n",
       "  <thead>\n",
       "    <tr style=\"text-align: right;\">\n",
       "      <th></th>\n",
       "      <th>Unnamed: 0</th>\n",
       "      <th>title</th>\n",
       "      <th>text</th>\n",
       "      <th>label</th>\n",
       "    </tr>\n",
       "  </thead>\n",
       "  <tbody>\n",
       "    <tr>\n",
       "      <th>0</th>\n",
       "      <td>8476</td>\n",
       "      <td>You Can Smell Hillary’s Fear</td>\n",
       "      <td>Daniel Greenfield, a Shillman Journalism Fello...</td>\n",
       "      <td>FAKE</td>\n",
       "    </tr>\n",
       "    <tr>\n",
       "      <th>1</th>\n",
       "      <td>10294</td>\n",
       "      <td>Watch The Exact Moment Paul Ryan Committed Pol...</td>\n",
       "      <td>Google Pinterest Digg Linkedin Reddit Stumbleu...</td>\n",
       "      <td>FAKE</td>\n",
       "    </tr>\n",
       "    <tr>\n",
       "      <th>2</th>\n",
       "      <td>3608</td>\n",
       "      <td>Kerry to go to Paris in gesture of sympathy</td>\n",
       "      <td>U.S. Secretary of State John F. Kerry said Mon...</td>\n",
       "      <td>REAL</td>\n",
       "    </tr>\n",
       "    <tr>\n",
       "      <th>3</th>\n",
       "      <td>10142</td>\n",
       "      <td>Bernie supporters on Twitter erupt in anger ag...</td>\n",
       "      <td>— Kaydee King (@KaydeeKing) November 9, 2016 T...</td>\n",
       "      <td>FAKE</td>\n",
       "    </tr>\n",
       "    <tr>\n",
       "      <th>4</th>\n",
       "      <td>875</td>\n",
       "      <td>The Battle of New York: Why This Primary Matters</td>\n",
       "      <td>It's primary day in New York and front-runners...</td>\n",
       "      <td>REAL</td>\n",
       "    </tr>\n",
       "  </tbody>\n",
       "</table>\n",
       "</div>"
      ],
      "text/plain": [
       "   Unnamed: 0                                              title  \\\n",
       "0        8476                       You Can Smell Hillary’s Fear   \n",
       "1       10294  Watch The Exact Moment Paul Ryan Committed Pol...   \n",
       "2        3608        Kerry to go to Paris in gesture of sympathy   \n",
       "3       10142  Bernie supporters on Twitter erupt in anger ag...   \n",
       "4         875   The Battle of New York: Why This Primary Matters   \n",
       "\n",
       "                                                text label  \n",
       "0  Daniel Greenfield, a Shillman Journalism Fello...  FAKE  \n",
       "1  Google Pinterest Digg Linkedin Reddit Stumbleu...  FAKE  \n",
       "2  U.S. Secretary of State John F. Kerry said Mon...  REAL  \n",
       "3  — Kaydee King (@KaydeeKing) November 9, 2016 T...  FAKE  \n",
       "4  It's primary day in New York and front-runners...  REAL  "
      ]
     },
     "execution_count": 57,
     "metadata": {},
     "output_type": "execute_result"
    }
   ],
   "source": [
    "import pandas as pd\n",
    "\n",
    "df = pd.read_csv('C:\\\\Users\\\\User\\\\Desktop\\\\Datasets\\\\fake_real_news.csv')\n",
    "df.head()"
   ]
  },
  {
   "cell_type": "code",
   "execution_count": 18,
   "id": "c96a40a5",
   "metadata": {},
   "outputs": [],
   "source": [
    "df = df.iloc[:,2:]"
   ]
  },
  {
   "cell_type": "code",
   "execution_count": 19,
   "id": "65cb5036",
   "metadata": {},
   "outputs": [
    {
     "data": {
      "text/html": [
       "<div>\n",
       "<style scoped>\n",
       "    .dataframe tbody tr th:only-of-type {\n",
       "        vertical-align: middle;\n",
       "    }\n",
       "\n",
       "    .dataframe tbody tr th {\n",
       "        vertical-align: top;\n",
       "    }\n",
       "\n",
       "    .dataframe thead th {\n",
       "        text-align: right;\n",
       "    }\n",
       "</style>\n",
       "<table border=\"1\" class=\"dataframe\">\n",
       "  <thead>\n",
       "    <tr style=\"text-align: right;\">\n",
       "      <th></th>\n",
       "      <th>text</th>\n",
       "      <th>label</th>\n",
       "    </tr>\n",
       "  </thead>\n",
       "  <tbody>\n",
       "    <tr>\n",
       "      <th>0</th>\n",
       "      <td>Daniel Greenfield, a Shillman Journalism Fello...</td>\n",
       "      <td>FAKE</td>\n",
       "    </tr>\n",
       "    <tr>\n",
       "      <th>1</th>\n",
       "      <td>Google Pinterest Digg Linkedin Reddit Stumbleu...</td>\n",
       "      <td>FAKE</td>\n",
       "    </tr>\n",
       "    <tr>\n",
       "      <th>2</th>\n",
       "      <td>U.S. Secretary of State John F. Kerry said Mon...</td>\n",
       "      <td>REAL</td>\n",
       "    </tr>\n",
       "    <tr>\n",
       "      <th>3</th>\n",
       "      <td>— Kaydee King (@KaydeeKing) November 9, 2016 T...</td>\n",
       "      <td>FAKE</td>\n",
       "    </tr>\n",
       "    <tr>\n",
       "      <th>4</th>\n",
       "      <td>It's primary day in New York and front-runners...</td>\n",
       "      <td>REAL</td>\n",
       "    </tr>\n",
       "  </tbody>\n",
       "</table>\n",
       "</div>"
      ],
      "text/plain": [
       "                                                text label\n",
       "0  Daniel Greenfield, a Shillman Journalism Fello...  FAKE\n",
       "1  Google Pinterest Digg Linkedin Reddit Stumbleu...  FAKE\n",
       "2  U.S. Secretary of State John F. Kerry said Mon...  REAL\n",
       "3  — Kaydee King (@KaydeeKing) November 9, 2016 T...  FAKE\n",
       "4  It's primary day in New York and front-runners...  REAL"
      ]
     },
     "execution_count": 19,
     "metadata": {},
     "output_type": "execute_result"
    }
   ],
   "source": [
    "df.head()"
   ]
  },
  {
   "cell_type": "code",
   "execution_count": 20,
   "id": "0e292f4f",
   "metadata": {},
   "outputs": [
    {
     "data": {
      "text/plain": [
       "(6335, 2)"
      ]
     },
     "execution_count": 20,
     "metadata": {},
     "output_type": "execute_result"
    }
   ],
   "source": [
    "df.shape"
   ]
  },
  {
   "cell_type": "code",
   "execution_count": 21,
   "id": "d016206f",
   "metadata": {},
   "outputs": [],
   "source": [
    "from sklearn.preprocessing import LabelEncoder\n",
    "\n",
    "encoder=LabelEncoder()\n",
    "df['label'] = encoder.fit_transform(df['label'])"
   ]
  },
  {
   "cell_type": "code",
   "execution_count": 23,
   "id": "65736171",
   "metadata": {},
   "outputs": [
    {
     "data": {
      "text/plain": [
       "label\n",
       "1    3171\n",
       "0    3164\n",
       "Name: count, dtype: int64"
      ]
     },
     "execution_count": 23,
     "metadata": {},
     "output_type": "execute_result"
    }
   ],
   "source": [
    "df['label'].value_counts()"
   ]
  },
  {
   "cell_type": "code",
   "execution_count": 24,
   "id": "52110bcb",
   "metadata": {},
   "outputs": [],
   "source": [
    "import spacy\n",
    "nlp = spacy.load('en_core_web_lg')"
   ]
  },
  {
   "cell_type": "code",
   "execution_count": 25,
   "id": "f1dbe486",
   "metadata": {},
   "outputs": [
    {
     "data": {
      "text/plain": [
       "(300,)"
      ]
     },
     "execution_count": 25,
     "metadata": {},
     "output_type": "execute_result"
    }
   ],
   "source": [
    "doc = nlp('Daniel Greenfield, a Shillman Journalism')\n",
    "doc.vector.shape"
   ]
  },
  {
   "cell_type": "code",
   "execution_count": 26,
   "id": "a09d0a61",
   "metadata": {},
   "outputs": [],
   "source": [
    "df['vector'] = df['text'].apply(lambda x: nlp(x).vector)"
   ]
  },
  {
   "cell_type": "code",
   "execution_count": 27,
   "id": "eb34ff07",
   "metadata": {},
   "outputs": [
    {
     "data": {
      "text/html": [
       "<div>\n",
       "<style scoped>\n",
       "    .dataframe tbody tr th:only-of-type {\n",
       "        vertical-align: middle;\n",
       "    }\n",
       "\n",
       "    .dataframe tbody tr th {\n",
       "        vertical-align: top;\n",
       "    }\n",
       "\n",
       "    .dataframe thead th {\n",
       "        text-align: right;\n",
       "    }\n",
       "</style>\n",
       "<table border=\"1\" class=\"dataframe\">\n",
       "  <thead>\n",
       "    <tr style=\"text-align: right;\">\n",
       "      <th></th>\n",
       "      <th>text</th>\n",
       "      <th>label</th>\n",
       "      <th>vector</th>\n",
       "    </tr>\n",
       "  </thead>\n",
       "  <tbody>\n",
       "    <tr>\n",
       "      <th>0</th>\n",
       "      <td>Daniel Greenfield, a Shillman Journalism Fello...</td>\n",
       "      <td>0</td>\n",
       "      <td>[-1.3751823, 1.3421849, -2.3666484, 0.12908486...</td>\n",
       "    </tr>\n",
       "    <tr>\n",
       "      <th>1</th>\n",
       "      <td>Google Pinterest Digg Linkedin Reddit Stumbleu...</td>\n",
       "      <td>0</td>\n",
       "      <td>[-1.7449774, 0.93961924, -2.024867, 0.42536643...</td>\n",
       "    </tr>\n",
       "    <tr>\n",
       "      <th>2</th>\n",
       "      <td>U.S. Secretary of State John F. Kerry said Mon...</td>\n",
       "      <td>1</td>\n",
       "      <td>[-1.9426425, 1.0062195, -1.9992222, 0.20469022...</td>\n",
       "    </tr>\n",
       "    <tr>\n",
       "      <th>3</th>\n",
       "      <td>— Kaydee King (@KaydeeKing) November 9, 2016 T...</td>\n",
       "      <td>0</td>\n",
       "      <td>[-1.9125352, -0.1481846, -1.1432766, 0.6861217...</td>\n",
       "    </tr>\n",
       "    <tr>\n",
       "      <th>4</th>\n",
       "      <td>It's primary day in New York and front-runners...</td>\n",
       "      <td>1</td>\n",
       "      <td>[-1.8516092, 1.3163909, -2.1726575, 1.2286776,...</td>\n",
       "    </tr>\n",
       "  </tbody>\n",
       "</table>\n",
       "</div>"
      ],
      "text/plain": [
       "                                                text  label  \\\n",
       "0  Daniel Greenfield, a Shillman Journalism Fello...      0   \n",
       "1  Google Pinterest Digg Linkedin Reddit Stumbleu...      0   \n",
       "2  U.S. Secretary of State John F. Kerry said Mon...      1   \n",
       "3  — Kaydee King (@KaydeeKing) November 9, 2016 T...      0   \n",
       "4  It's primary day in New York and front-runners...      1   \n",
       "\n",
       "                                              vector  \n",
       "0  [-1.3751823, 1.3421849, -2.3666484, 0.12908486...  \n",
       "1  [-1.7449774, 0.93961924, -2.024867, 0.42536643...  \n",
       "2  [-1.9426425, 1.0062195, -1.9992222, 0.20469022...  \n",
       "3  [-1.9125352, -0.1481846, -1.1432766, 0.6861217...  \n",
       "4  [-1.8516092, 1.3163909, -2.1726575, 1.2286776,...  "
      ]
     },
     "execution_count": 27,
     "metadata": {},
     "output_type": "execute_result"
    }
   ],
   "source": [
    "df.head()"
   ]
  },
  {
   "cell_type": "code",
   "execution_count": 30,
   "id": "7062d1b0",
   "metadata": {},
   "outputs": [
    {
     "data": {
      "text/plain": [
       "array([-1.3751823 ,  1.3421849 , -2.3666484 ,  0.12908486,  4.270479  ,\n",
       "        0.51925766,  0.44712344,  4.256378  , -0.258568  , -0.69181013,\n",
       "        5.816825  ,  0.912634  , -2.8267076 ,  0.6135212 ,  0.9216893 ,\n",
       "        1.8403614 ,  1.0790504 , -0.62502784, -1.0741416 , -1.1811537 ,\n",
       "        1.187674  , -0.7152485 , -0.54194546, -1.0991569 , -0.6336021 ,\n",
       "       -1.6232888 , -2.2061875 , -1.0777613 , -0.76670575,  1.1433407 ,\n",
       "        0.9485234 , -0.25826022, -0.6409617 , -1.3894422 , -2.7554905 ,\n",
       "       -0.47828907, -0.7560415 ,  1.2054269 ,  1.877219  ,  1.2506902 ,\n",
       "       -0.33462027,  0.50827944,  0.07255519, -0.06292999, -1.8812821 ,\n",
       "        0.89956325,  1.0648625 , -2.9592528 , -1.0185561 ,  2.09682   ,\n",
       "       -0.8460555 ,  1.1176676 ,  0.743881  , -4.517312  , -0.43132237,\n",
       "       -0.11841195,  0.63771945,  0.93854254,  0.8386211 ,  0.17864674,\n",
       "        0.76933694, -0.59235567, -0.08093308, -1.4929782 ,  1.5234507 ,\n",
       "        1.3508835 , -2.7877965 , -3.2130456 ,  0.67457646,  2.2709482 ,\n",
       "       -0.07719871, -0.25529245, -1.7926309 ,  0.20649785, -0.46682763,\n",
       "        0.9332843 , -2.7221718 ,  2.6620634 , -3.318603  , -0.39553592,\n",
       "       -4.2094173 , -0.24668595,  1.3312395 ,  1.0092065 ,  2.5339367 ,\n",
       "        0.42848423, -1.9010289 , -2.8049917 ,  1.5816413 , -0.5956126 ,\n",
       "       -1.0109136 , -0.330214  ,  1.8230423 , -3.8565936 ,  1.0710435 ,\n",
       "       -1.5105011 ,  0.84817547, -0.41325372,  0.9455699 ,  0.8685324 ,\n",
       "        2.0128243 ,  1.4451609 ,  2.4442773 ,  2.8745167 , -0.45419043,\n",
       "        3.2884321 ,  0.08047053, -1.7656595 , -0.76803917, -2.6623878 ,\n",
       "        0.54368776,  0.69076395, -1.0760984 ,  1.3782196 ,  1.4455998 ,\n",
       "        0.59927666, -1.3933148 , -0.6568914 ,  0.02633634, -0.35830387,\n",
       "       -0.96782494, -3.1871362 ,  0.55382705,  1.2708961 , -0.8258485 ,\n",
       "       -3.014621  ,  1.9175869 , -1.5861104 ,  2.059511  , -1.4950259 ,\n",
       "       -2.2840414 , -0.5581505 ,  3.393413  , -1.020413  , -0.568538  ,\n",
       "        1.0303459 , -1.2012602 , -0.8992247 ,  3.4372027 , -2.6370702 ,\n",
       "       -2.2723792 , -1.042254  ,  0.5886223 ,  1.8768991 ,  0.61983454,\n",
       "        0.56088203, -3.9027612 ,  0.20666566,  0.62985945,  0.6074108 ,\n",
       "       -0.42735335,  2.9272358 , -0.03341543,  1.6001517 , -1.0603268 ,\n",
       "        1.5189955 ,  2.841227  , -0.58277124, -2.3928797 , -0.7303699 ,\n",
       "       -0.4288248 , -2.6899517 , -0.5525891 ,  1.6481754 , -2.387883  ,\n",
       "       -1.7804966 , -2.9145296 ,  1.4223679 , -0.18211773,  0.01072715,\n",
       "        1.3040466 , -0.521608  ,  2.6299005 ,  0.4352533 ,  1.3618973 ,\n",
       "       -0.2737459 , -0.66787374, -0.02635247, -1.4617245 , -2.0203218 ,\n",
       "       -0.8291804 ,  0.53097224,  1.8673711 ,  0.10901137, -0.9580749 ,\n",
       "       -0.09020983, -1.7804297 , -0.60826933,  1.6246179 ,  1.9975291 ,\n",
       "       -0.20796403, -0.90220714, -0.10413093, -1.6734076 , -0.58930194,\n",
       "       -0.2471478 , -2.7445197 , -0.15807487,  0.0066874 ,  0.8617584 ,\n",
       "       -1.2612387 , -1.2188874 , -0.6247163 , -2.776657  ,  2.1644328 ,\n",
       "        1.5316391 , -3.0706527 ,  0.95499635, -0.69824916, -0.24717337,\n",
       "        1.1946262 ,  0.85181296, -1.505708  ,  1.9726583 ,  0.66450024,\n",
       "        2.1964924 ,  0.11778136, -1.62217   , -0.4722602 , -0.27064475,\n",
       "       -2.407289  ,  0.735057  ,  0.06300147,  0.8773115 , -1.7323413 ,\n",
       "       -0.65573335,  0.824341  ,  2.2521281 ,  1.4274561 ,  0.277394  ,\n",
       "        1.6649582 , -2.843705  , -0.92960393,  2.043647  ,  1.1506203 ,\n",
       "        1.3446426 , -1.9304821 ,  1.219653  , -0.06325973,  0.1882338 ,\n",
       "       -0.5643733 ,  0.6250532 ,  2.053828  ,  0.3489916 , -1.3555384 ,\n",
       "        1.8121241 , -2.3484454 , -0.5501912 ,  0.7313631 ,  2.552834  ,\n",
       "        0.61135244, -2.0701444 , -4.7110624 , -0.6628212 ,  0.2645642 ,\n",
       "       -2.1350079 ,  2.144511  ,  0.20988248, -0.53457737,  0.75022066,\n",
       "       -0.0735879 ,  4.487119  ,  3.211092  ,  2.3489194 ,  1.2821    ,\n",
       "       -0.5574175 ,  0.19864021,  2.6019654 , -3.4612505 ,  0.41946682,\n",
       "        0.4139885 , -0.8350672 , -0.42646042, -1.916336  ,  0.7835751 ,\n",
       "       -0.2605501 ,  1.0375496 , -1.4261405 , -1.0299741 ,  2.1875606 ,\n",
       "       -0.0668312 , -0.33663505, -0.0349232 ,  1.5045094 ,  3.6482728 ,\n",
       "       -1.1238112 ,  0.5970705 ,  1.2887573 , -1.3597865 ,  0.20466457,\n",
       "        0.7662854 , -0.36775982,  0.19070573,  0.17308402, -1.4139427 ,\n",
       "        1.228125  ,  0.729392  , -0.37003487, -2.5470107 ,  1.0019777 ],\n",
       "      dtype=float32)"
      ]
     },
     "execution_count": 30,
     "metadata": {},
     "output_type": "execute_result"
    }
   ],
   "source": [
    "df['vector'][0]"
   ]
  },
  {
   "cell_type": "code",
   "execution_count": 31,
   "id": "8898a837",
   "metadata": {},
   "outputs": [],
   "source": [
    "from sklearn.model_selection import train_test_split\n",
    "\n",
    "X_train,X_test,y_train,y_test = train_test_split(df.vector.values, df.label, test_size=0.2, random_state=0)"
   ]
  },
  {
   "cell_type": "code",
   "execution_count": 32,
   "id": "bb5191e1",
   "metadata": {},
   "outputs": [
    {
     "data": {
      "text/plain": [
       "(5068,)"
      ]
     },
     "execution_count": 32,
     "metadata": {},
     "output_type": "execute_result"
    }
   ],
   "source": [
    "X_train.shape"
   ]
  },
  {
   "cell_type": "code",
   "execution_count": 33,
   "id": "09d08023",
   "metadata": {},
   "outputs": [
    {
     "data": {
      "text/plain": [
       "(1267,)"
      ]
     },
     "execution_count": 33,
     "metadata": {},
     "output_type": "execute_result"
    }
   ],
   "source": [
    "X_test.shape"
   ]
  },
  {
   "cell_type": "code",
   "execution_count": 34,
   "id": "f591bf87",
   "metadata": {},
   "outputs": [
    {
     "data": {
      "text/plain": [
       "array([array([-1.61986899e+00,  1.33421493e+00, -1.35586178e+00,  5.18004298e-01,\n",
       "               4.69462872e+00,  1.36738017e-01,  1.77956045e-01,  3.30067706e+00,\n",
       "              -1.79211095e-01, -8.72039139e-01,  5.55393505e+00,  9.98799205e-01,\n",
       "              -2.81162977e+00,  4.59265649e-01,  6.82270646e-01,  2.03440595e+00,\n",
       "               1.30965984e+00, -1.18151136e-01, -5.97718835e-01, -4.81164217e-01,\n",
       "               9.93831575e-01, -7.37450004e-01, -9.26415324e-01, -3.63480955e-01,\n",
       "               3.26350808e-01, -1.26044559e+00, -1.99598646e+00, -8.91666174e-01,\n",
       "              -3.93535569e-02,  7.41871715e-01,  9.48715732e-02, -3.28487545e-01,\n",
       "              -2.35230520e-01, -8.54804754e-01, -2.83622646e+00, -1.14813268e+00,\n",
       "              -6.17452562e-01,  9.27654862e-01,  4.78723019e-01,  3.60162705e-01,\n",
       "              -1.02181554e-01,  7.40911588e-02, -3.05617571e-01,  4.16660458e-01,\n",
       "              -1.28456891e+00,  7.27809429e-01, -1.58052981e-01, -2.12075996e+00,\n",
       "              -7.61317551e-01,  2.30262566e+00, -2.12982583e+00,  1.61473477e+00,\n",
       "               8.93639326e-01, -3.94116259e+00, -4.37280089e-01, -1.37437686e-01,\n",
       "               3.16718578e-01,  6.59453988e-01,  7.96962321e-01, -2.26329491e-01,\n",
       "               9.55089033e-01, -1.30986500e+00,  1.35385782e-01, -1.12891352e+00,\n",
       "               2.19417238e+00,  1.16552150e+00, -2.50459933e+00, -3.63030577e+00,\n",
       "               1.73923028e+00,  1.71529400e+00, -4.37879235e-01, -1.70284957e-01,\n",
       "              -1.84805357e+00, -5.08437939e-02, -3.37812632e-01,  1.08602023e+00,\n",
       "              -3.19529104e+00,  2.75218725e+00, -3.20641112e+00, -3.56537998e-01,\n",
       "              -3.61702633e+00, -5.11459231e-01,  7.38692820e-01,  1.14629972e+00,\n",
       "               2.07999229e+00,  5.12820370e-02, -2.42660642e+00, -2.89388776e+00,\n",
       "               9.74832356e-01, -9.01598036e-01, -1.34757733e+00, -6.00037456e-01,\n",
       "               1.89393520e+00, -3.71723604e+00,  1.36072445e+00, -1.87906754e+00,\n",
       "               6.49803638e-01, -5.42992413e-01,  7.88477302e-01,  8.52462471e-01,\n",
       "               1.71942747e+00,  1.18450940e+00,  2.98004365e+00,  3.78121519e+00,\n",
       "              -7.74386287e-01,  2.92295790e+00,  1.08919823e+00, -1.75177300e+00,\n",
       "              -3.12194645e-01, -2.69448543e+00,  7.02345669e-01,  1.38127947e+00,\n",
       "              -2.16149545e+00,  1.29138660e+00,  1.43718565e+00,  1.62786674e-02,\n",
       "              -7.58371770e-01, -8.10652748e-02, -2.41565064e-01, -3.05814389e-02,\n",
       "              -5.43563545e-01, -3.37076807e+00,  1.25042367e+00,  1.47237074e+00,\n",
       "              -9.33477163e-01, -2.97902369e+00,  1.39520097e+00, -2.09886575e+00,\n",
       "               2.00437403e+00, -1.10534680e+00, -2.31390524e+00, -3.97110611e-01,\n",
       "               3.90495396e+00, -1.36226857e+00, -8.12767208e-01,  1.19088805e+00,\n",
       "              -1.38479257e+00, -7.45299995e-01,  2.37632275e+00, -2.11487508e+00,\n",
       "              -2.41550779e+00, -1.02760243e+00,  5.11877120e-01,  1.72864282e+00,\n",
       "               1.22353256e+00,  7.90879548e-01, -3.76452088e+00,  2.06177309e-01,\n",
       "               9.07382369e-01,  1.08108485e+00,  7.03999326e-02,  2.28012371e+00,\n",
       "              -1.27956107e-01,  1.80018044e+00, -1.54738200e+00,  1.64484882e+00,\n",
       "               2.28055549e+00, -2.09892169e-01, -2.16330743e+00, -8.20179641e-01,\n",
       "              -3.71496752e-02, -2.13850546e+00, -6.78824961e-01,  1.88555133e+00,\n",
       "              -2.36352992e+00, -2.50818896e+00, -3.13500643e+00,  8.13583374e-01,\n",
       "               2.50410318e-01,  2.99205072e-02,  1.55037653e+00, -1.81077138e-01,\n",
       "               2.66956663e+00,  4.83289272e-01,  1.59643722e+00, -2.18929544e-01,\n",
       "               2.08396852e-01,  2.63836682e-01, -1.74571192e+00, -1.40911472e+00,\n",
       "              -9.68483567e-01,  1.11864015e-01,  1.38984549e+00, -1.01999365e-01,\n",
       "              -7.73544550e-01,  4.91228878e-01, -1.45696485e+00, -2.19710976e-01,\n",
       "               1.22511530e+00,  1.70363307e+00,  2.43182018e-01, -1.24724472e+00,\n",
       "               1.69869781e-01, -8.36239874e-01,  7.85616785e-02, -1.69218987e-01,\n",
       "              -2.22508502e+00,  2.24610195e-01,  2.90952772e-01,  9.86613452e-01,\n",
       "              -6.27281368e-01, -1.41666043e+00, -7.33695030e-01, -2.00026655e+00,\n",
       "               1.76105118e+00,  1.14827752e+00, -3.01654434e+00,  9.83009517e-01,\n",
       "              -8.99502039e-01, -8.47096860e-01,  8.34628642e-01,  1.24158645e+00,\n",
       "              -1.41528237e+00,  1.61154628e+00,  1.41593957e+00,  2.28214836e+00,\n",
       "               2.13057280e-01, -1.30304790e+00,  9.71675664e-03,  1.68622419e-01,\n",
       "              -1.67698932e+00,  1.46642733e+00, -6.48112094e-04,  1.17048621e+00,\n",
       "              -2.06970239e+00, -2.71466315e-01,  6.63809001e-01,  2.59443784e+00,\n",
       "               1.51405132e+00,  1.78725898e-01,  1.91296351e+00, -2.31954670e+00,\n",
       "              -1.14404559e+00,  1.62444615e+00,  1.37912047e+00,  1.19115746e+00,\n",
       "              -1.53192067e+00,  1.00515866e+00, -8.22443306e-01, -4.56774771e-01,\n",
       "               1.91145316e-01,  7.74099290e-01,  1.80148244e+00,  8.92254040e-02,\n",
       "              -1.52915239e+00,  8.65432441e-01, -2.14920330e+00, -7.56360888e-01,\n",
       "              -5.10264575e-01,  2.26433253e+00,  1.50596392e+00, -2.64803910e+00,\n",
       "              -4.65353203e+00, -5.52255750e-01,  4.96558964e-01, -1.93479550e+00,\n",
       "               2.23436880e+00, -4.15912241e-01, -2.34995946e-01,  1.05517900e+00,\n",
       "              -4.60776955e-01,  3.51604581e+00,  3.19534802e+00,  2.36492729e+00,\n",
       "               1.24502301e+00, -6.56916946e-02, -3.15137118e-01,  2.07897735e+00,\n",
       "              -3.07462192e+00,  8.43374506e-02,  5.69032311e-01,  1.21035628e-01,\n",
       "               3.65106374e-01, -1.84518182e+00,  7.50707626e-01,  4.20000553e-01,\n",
       "               1.69978511e+00, -1.21656871e+00, -1.06882811e+00,  2.58542538e+00,\n",
       "               2.82488585e-01, -2.42565647e-01,  4.19432729e-01,  9.42009807e-01,\n",
       "               2.24973822e+00, -1.02217460e+00,  7.91978538e-01,  1.35706604e+00,\n",
       "              -2.81066030e-01,  4.77424562e-01,  7.26797402e-01, -8.01953614e-01,\n",
       "               9.04216990e-02,  1.85656086e-01, -1.17937863e+00,  1.32132590e+00,\n",
       "               1.23658907e+00, -4.04692739e-02, -2.76149607e+00,  7.59818196e-01],\n",
       "             dtype=float32)                                                       ,\n",
       "       array([-2.32222462e+00,  7.89764524e-01, -1.80410779e+00,  9.21502829e-01,\n",
       "               4.87402487e+00,  4.11864996e-01,  9.51503962e-02,  4.69286871e+00,\n",
       "               1.84386432e-01, -8.88296783e-01,  5.07619286e+00,  1.50699115e+00,\n",
       "              -2.94249725e+00,  1.25502491e+00,  5.08516133e-01,  2.26000071e+00,\n",
       "              -1.94775894e-01, -3.50353867e-01, -8.42546344e-01, -1.03070831e+00,\n",
       "               1.20763969e+00, -7.13809907e-01, -9.43573415e-01, -2.17807218e-01,\n",
       "               2.64072746e-01, -9.88194287e-01, -2.46094561e+00, -8.17491233e-01,\n",
       "               1.15871280e-01,  9.24343169e-01,  6.71761870e-01, -1.34630740e-01,\n",
       "              -4.34097528e-01, -2.16850877e+00, -2.86303544e+00, -1.11381137e+00,\n",
       "              -1.15769470e+00,  1.02781641e+00,  3.25919181e-01,  3.02104264e-01,\n",
       "               4.75811690e-01,  3.91692042e-01,  2.53255039e-01,  4.71633881e-01,\n",
       "              -1.15404522e+00,  1.17793834e+00, -3.09545517e-01, -1.60508895e+00,\n",
       "              -4.46673512e-01,  2.29537845e+00, -1.97997308e+00,  1.82984805e+00,\n",
       "               3.61734182e-02, -4.13322067e+00, -3.15710485e-01,  3.91426206e-01,\n",
       "              -6.87014982e-02,  4.28422928e-01,  1.25930309e+00, -1.82283580e-01,\n",
       "              -1.22124039e-01, -1.17865753e+00,  5.21736860e-01, -1.14079607e+00,\n",
       "               3.01263022e+00,  1.62424934e+00, -2.63702202e+00, -2.16691422e+00,\n",
       "               1.05529940e+00,  1.91473997e+00,  4.81806099e-02, -1.36253095e+00,\n",
       "              -1.77244723e+00,  1.39312074e-01,  1.30933806e-01,  1.16447616e+00,\n",
       "              -2.67060208e+00,  2.37732983e+00, -3.44213700e+00, -6.59338757e-02,\n",
       "              -3.94718885e+00, -2.12126762e-01,  8.63262594e-01,  7.25876510e-01,\n",
       "               2.52084756e+00, -3.52300853e-01, -2.29188371e+00, -2.85993290e+00,\n",
       "               4.23964471e-01, -8.06543052e-01, -1.29208052e+00, -3.62145901e-02,\n",
       "               1.73057377e+00, -3.07688284e+00,  1.28208017e+00, -1.19986522e+00,\n",
       "               7.22363830e-01, -1.15075755e+00,  1.37793350e+00,  1.90466022e+00,\n",
       "               2.05564976e+00,  1.31218410e+00,  2.56486917e+00,  3.49956012e+00,\n",
       "              -6.51143968e-01,  3.06238222e+00,  3.97780389e-01, -2.16436529e+00,\n",
       "              -2.05093130e-01, -3.72433519e+00,  3.86083692e-01,  7.07185268e-01,\n",
       "              -1.37633240e+00,  9.10657585e-01,  1.21279526e+00,  4.72027630e-01,\n",
       "              -4.95763332e-01, -8.84160176e-02, -1.96465880e-01, -4.64456677e-01,\n",
       "              -1.24726646e-01, -3.14294958e+00,  7.54899263e-01,  9.23582077e-01,\n",
       "              -1.28187025e+00, -2.56601763e+00,  1.26459277e+00, -1.90321589e+00,\n",
       "               2.16439342e+00, -1.42127311e+00, -2.33407807e+00, -5.51220894e-01,\n",
       "               3.87709165e+00, -5.14991164e-01, -8.86136889e-02,  9.15869176e-01,\n",
       "              -1.83220303e+00, -2.00891092e-01,  2.54888439e+00, -2.15543842e+00,\n",
       "              -2.28220344e+00, -1.00813901e+00,  3.89080644e-01,  1.37376547e+00,\n",
       "               1.12658536e+00,  8.91948164e-01, -3.99799681e+00, -5.15321612e-01,\n",
       "               1.72767258e+00,  1.10992813e+00,  1.65133759e-01,  1.99758649e+00,\n",
       "              -1.10943504e-01,  2.07567906e+00, -1.66643000e+00,  1.08205235e+00,\n",
       "               2.26441097e+00, -7.93604314e-01, -2.62830353e+00, -1.22953987e+00,\n",
       "              -5.96344531e-01, -3.05449104e+00, -2.81863034e-01,  1.87172234e+00,\n",
       "              -2.21723843e+00, -1.60287726e+00, -3.48087597e+00,  7.66295016e-01,\n",
       "              -3.26262981e-01,  9.07571793e-01,  1.56533718e+00,  3.38090777e-01,\n",
       "               2.10890579e+00,  3.56588930e-01,  1.50727272e+00,  4.84246075e-01,\n",
       "              -6.31658137e-01, -2.80039161e-01, -2.21807265e+00, -1.05563557e+00,\n",
       "              -1.20483470e+00, -1.16766058e-01,  1.07210910e+00,  6.97104156e-01,\n",
       "              -1.23880720e+00,  1.14158463e+00, -1.41406345e+00,  1.66330840e-02,\n",
       "               1.28374159e+00,  1.81829846e+00,  1.26315191e-01, -1.46115494e+00,\n",
       "              -1.18781962e-01, -1.39589703e+00, -2.40474030e-01,  3.59584321e-03,\n",
       "              -2.39430213e+00, -2.16783673e-01, -3.31305891e-01,  1.61946356e+00,\n",
       "              -6.35499895e-01, -1.50434971e+00,  3.79910529e-01, -2.45448089e+00,\n",
       "               2.61820006e+00,  4.04985309e-01, -2.51079464e+00,  1.20235956e+00,\n",
       "              -5.46225071e-01, -3.12598571e-02,  8.50987792e-01,  1.03965473e+00,\n",
       "              -1.27147555e+00,  2.45846486e+00,  1.03957832e+00,  2.84808254e+00,\n",
       "               2.69213505e-02, -1.28164768e+00, -3.32624793e-01,  8.74945745e-02,\n",
       "              -1.99607837e+00,  1.47122276e+00, -3.30813259e-01,  1.09505224e+00,\n",
       "              -2.52510905e+00, -1.10106683e+00,  3.54749501e-01,  3.00928116e+00,\n",
       "               1.28742528e+00,  4.07522529e-01,  2.66779041e+00, -2.03750968e+00,\n",
       "              -9.25240219e-01,  1.65377295e+00,  2.13053656e+00,  1.58828342e+00,\n",
       "              -1.81324625e+00,  4.17258561e-01, -1.14391255e+00, -1.04426014e+00,\n",
       "              -4.51019526e-01,  9.68112946e-01,  1.25823760e+00,  1.26806200e-01,\n",
       "              -1.20862377e+00,  1.17129600e+00, -1.83538985e+00,  1.62603125e-01,\n",
       "              -1.83909535e-02,  2.51188779e+00,  1.04892302e+00, -2.23258018e+00,\n",
       "              -4.98229456e+00,  6.14717185e-01,  5.53984642e-01, -1.91636431e+00,\n",
       "               2.22240138e+00, -7.88433433e-01,  3.03534031e-01,  1.57685304e+00,\n",
       "               2.30576783e-01,  3.80839610e+00,  2.82744837e+00,  1.98153019e+00,\n",
       "               1.73075795e+00, -7.31701612e-01, -1.17113307e-01,  1.80625486e+00,\n",
       "              -3.09466577e+00,  2.00128019e-01,  6.28030300e-01, -1.79837927e-01,\n",
       "               8.51407886e-01, -1.79952860e+00,  5.98481417e-01,  1.66591868e-01,\n",
       "               1.59593010e+00, -1.78063715e+00, -9.22155440e-01,  2.27949715e+00,\n",
       "               1.19263518e+00,  2.56797820e-01,  8.09403181e-01,  7.88010895e-01,\n",
       "               2.08821774e+00, -9.81998742e-01, -2.59358380e-02,  1.31796992e+00,\n",
       "              -1.02221799e+00,  1.26076480e-02,  5.18770754e-01, -8.08501124e-01,\n",
       "              -1.17560446e+00,  3.46496493e-01, -1.34738743e+00,  1.76921976e+00,\n",
       "               8.64397943e-01, -9.57721710e-01, -2.37339306e+00,  5.84143281e-01],\n",
       "             dtype=float32)                                                       ,\n",
       "       array([-1.2018781 ,  1.4973024 , -2.5473328 , -0.3345827 ,  3.6244955 ,\n",
       "               0.93261313,  0.39155316,  3.908923  , -1.20276   , -0.6523135 ,\n",
       "               6.74994   ,  1.7652988 , -4.1339107 ,  1.2964102 ,  1.2062004 ,\n",
       "               0.872363  ,  1.4122723 , -1.6290108 , -2.0297225 , -2.3642    ,\n",
       "               1.3301191 , -1.0068119 , -1.0451494 , -0.89042205, -0.48824114,\n",
       "              -1.2567437 , -2.0530548 , -0.37483793, -0.99204916,  1.8744018 ,\n",
       "               2.4452333 , -1.1991864 , -1.0389998 , -2.4858086 , -1.7147785 ,\n",
       "              -0.4524555 , -0.30890557,  1.0677832 ,  2.60303   ,  1.5448018 ,\n",
       "               0.6170244 ,  1.3224779 ,  0.24342176,  0.06820676, -2.0534756 ,\n",
       "               2.4737616 ,  1.2807862 , -3.3588812 , -1.0513967 ,  1.6411471 ,\n",
       "              -0.8849908 ,  1.8152018 ,  0.45654884, -5.6645    , -1.432986  ,\n",
       "               0.49914446, -0.46096995,  1.8622205 ,  0.96939385,  0.06454988,\n",
       "               1.1705728 , -0.7653003 ,  0.07618141, -1.9906683 ,  1.9037977 ,\n",
       "               1.9739951 , -3.1993794 , -4.1714354 ,  1.1471064 ,  2.4265065 ,\n",
       "              -0.238752  , -0.21432272, -1.959183  , -0.18589753, -0.28434727,\n",
       "               1.9513664 , -3.1477242 ,  1.6487485 , -3.197378  , -0.05373553,\n",
       "              -4.7098727 ,  0.23876747,  1.796619  ,  0.7390222 ,  2.6871731 ,\n",
       "               0.2125436 , -2.1636908 , -2.8393126 ,  1.6505803 , -0.25146785,\n",
       "              -0.5709132 ,  0.16228919,  1.5740666 , -4.097485  ,  0.4252934 ,\n",
       "              -1.9219776 ,  1.1885945 , -1.8982763 ,  0.4703514 ,  1.6145322 ,\n",
       "               2.8608167 ,  2.0221634 ,  1.9155309 ,  2.0390017 , -1.3428165 ,\n",
       "               4.2109923 , -0.504428  , -2.2831094 , -0.5803624 , -2.591041  ,\n",
       "               1.6069727 ,  0.34493417, -1.0775256 ,  0.5909766 ,  0.40270546,\n",
       "               1.9298642 , -1.5483034 , -0.8518823 ,  0.48697475, -0.8252018 ,\n",
       "              -2.3254635 , -1.8061389 , -0.9654766 ,  1.2596881 , -1.0168266 ,\n",
       "              -3.3169796 ,  1.2339908 , -2.5597034 ,  2.2148328 , -0.7924527 ,\n",
       "              -2.6334393 , -0.6321278 ,  3.5616434 , -0.7891495 ,  0.03526046,\n",
       "               1.0861539 , -2.2331467 , -1.2855879 ,  3.9270997 , -2.8937275 ,\n",
       "              -1.7301327 , -1.0156683 ,  0.67713785,  1.8609569 ,  0.11308839,\n",
       "               0.09837335, -3.4770272 , -0.690862  ,  0.24899693,  0.98566824,\n",
       "              -0.1548018 ,  2.5941577 , -0.02397241,  0.89780897, -1.3532987 ,\n",
       "               0.89599127,  3.6151993 , -0.34454614, -1.8705906 , -1.6432341 ,\n",
       "              -1.1444962 , -1.8547533 , -1.0638956 ,  1.766393  , -2.3395092 ,\n",
       "              -1.4194101 , -3.7233162 ,  0.87554646, -0.11071169,  0.13371569,\n",
       "               1.3557502 ,  0.085393  ,  2.7049282 ,  0.5262233 ,  1.6624063 ,\n",
       "              -0.20497863, -0.2911877 ,  0.64165616, -1.9715154 , -2.1032355 ,\n",
       "              -0.5003746 ,  0.05205283,  2.5588422 , -0.8850168 , -1.4526001 ,\n",
       "               0.23927835, -1.7874936 , -1.764413  ,  1.6564903 ,  3.0384772 ,\n",
       "              -1.249615  , -0.6126709 , -0.47642374, -1.6965455 , -0.7801822 ,\n",
       "               0.4987074 , -2.961313  ,  0.04406245, -0.29659757,  0.8007604 ,\n",
       "              -1.3330106 , -1.3839988 , -0.80437094, -2.1652877 ,  2.481711  ,\n",
       "               1.1237518 , -3.6523514 ,  1.178843  , -0.05241572, -0.07988058,\n",
       "               1.9449223 ,  0.5626889 , -1.0232387 ,  1.9082444 ,  0.08161671,\n",
       "               3.0772066 , -0.1415136 , -2.5848107 , -0.9026508 ,  0.19688517,\n",
       "              -2.477982  ,  1.5293338 , -0.01697212,  0.7810266 , -1.2097422 ,\n",
       "              -1.6568581 , -0.37638795,  2.0535693 ,  1.9889615 ,  0.501542  ,\n",
       "               1.0460672 , -2.7280505 ,  0.04601721,  1.4284993 ,  1.5912132 ,\n",
       "               1.5324925 , -1.3142718 ,  1.3944752 ,  0.23083   , -0.24167489,\n",
       "              -1.9918859 ,  0.06905113,  1.0645869 ,  0.2694145 , -0.5952402 ,\n",
       "               1.6428446 , -2.885219  ,  0.7024955 ,  1.0904936 ,  2.6324465 ,\n",
       "               0.2546867 , -1.7214609 , -5.2708173 ,  0.20864335,  0.77126294,\n",
       "              -3.0595076 ,  1.7706863 , -0.33442807, -0.61632794,  1.5087008 ,\n",
       "               0.06519869,  5.061889  ,  3.3967166 ,  2.6113348 ,  2.3181562 ,\n",
       "              -0.22963595,  0.3226654 ,  2.462886  , -3.6102562 ,  0.5263837 ,\n",
       "               1.0413691 , -0.8324694 ,  0.04865088, -1.945194  ,  0.70944744,\n",
       "              -1.1067063 ,  1.8322037 , -1.8460084 , -1.3592795 ,  2.4280803 ,\n",
       "               0.42781895, -0.06874798,  0.6489542 ,  0.620684  ,  2.6616778 ,\n",
       "              -0.8720369 ,  0.75969714,  1.8275602 , -1.5161575 , -0.2585464 ,\n",
       "               1.0718288 , -0.9873089 ,  0.34776026, -0.29754856, -1.0399691 ,\n",
       "               0.31784797,  0.08418203, -0.92211866, -2.9232326 ,  1.4042891 ],\n",
       "             dtype=float32)                                                    ,\n",
       "       ...,\n",
       "       array([-1.79318166e+00,  1.15349674e+00, -2.06487989e+00,  1.95249915e-01,\n",
       "               3.57820868e+00,  8.62620592e-01,  4.20507550e-01,  4.23084021e+00,\n",
       "              -6.74444735e-01, -5.89534521e-01,  6.31685257e+00,  1.32978976e+00,\n",
       "              -2.95596099e+00,  9.61499274e-01,  1.31751513e+00,  1.46282029e+00,\n",
       "               8.76419842e-01, -7.96109498e-01, -1.25766182e+00, -1.42910933e+00,\n",
       "               1.82268262e+00, -5.27852118e-01, -8.87551308e-01, -9.51666832e-01,\n",
       "              -1.28583699e-01, -1.48189914e+00, -2.54918003e+00, -8.90878916e-01,\n",
       "              -5.74412286e-01,  1.28597629e+00,  1.32038498e+00, -9.38574612e-01,\n",
       "              -9.19684172e-01, -2.32823396e+00, -2.52875638e+00, -8.74963045e-01,\n",
       "              -7.17389703e-01,  6.35558784e-01,  1.45138574e+00,  2.27326199e-01,\n",
       "               1.79114565e-01,  2.90618598e-01,  4.54454958e-01, -1.02360370e-02,\n",
       "              -1.15903008e+00,  1.84753096e+00,  5.44636510e-02, -2.53645372e+00,\n",
       "              -5.36262989e-01,  1.92600632e+00, -1.23767054e+00,  1.51060140e+00,\n",
       "               3.69984984e-01, -4.83233070e+00, -8.14376771e-01,  1.54466227e-01,\n",
       "               3.14269185e-01,  1.05638480e+00,  9.60391581e-01,  1.03235766e-01,\n",
       "               4.87808704e-01, -1.15704358e+00,  8.03604245e-01, -1.42197108e+00,\n",
       "               1.64749634e+00,  1.80294752e+00, -3.04686165e+00, -3.49021196e+00,\n",
       "               9.07480776e-01,  2.28479671e+00, -1.70268908e-01, -5.19200742e-01,\n",
       "              -1.58994973e+00,  2.77232945e-01, -2.06119448e-01,  1.41954374e+00,\n",
       "              -2.88510060e+00,  2.49822068e+00, -3.06227922e+00, -8.07453811e-01,\n",
       "              -4.45415926e+00, -1.70380667e-01,  2.27256870e+00,  7.07354665e-01,\n",
       "               2.83030891e+00,  1.48221061e-01, -1.72352767e+00, -2.76647449e+00,\n",
       "               7.76026011e-01, -1.14509332e+00, -8.15546811e-01, -2.51133829e-01,\n",
       "               1.89067745e+00, -4.11658669e+00,  5.51926672e-01, -1.42755032e+00,\n",
       "               1.15901875e+00, -1.07570684e+00,  9.13853228e-01,  1.25394177e+00,\n",
       "               1.97194278e+00,  1.55206239e+00,  2.10897183e+00,  2.96661901e+00,\n",
       "              -9.35682356e-01,  3.71776056e+00,  1.61204427e-01, -2.23795271e+00,\n",
       "              -5.22297800e-01, -3.06105876e+00,  7.30458021e-01,  8.79528761e-01,\n",
       "              -1.22271073e+00,  1.15669286e+00,  8.77617538e-01,  1.00437522e+00,\n",
       "              -1.43234861e+00, -8.70118916e-01,  3.36084455e-01, -6.41645253e-01,\n",
       "              -1.14331436e+00, -2.58274007e+00,  2.58034505e-02,  1.91562700e+00,\n",
       "              -1.10981452e+00, -3.25854802e+00,  9.74862337e-01, -2.27540874e+00,\n",
       "               2.78621888e+00, -1.32562423e+00, -2.50078535e+00, -5.28808646e-02,\n",
       "               3.66666937e+00, -7.41576910e-01, -4.78202879e-01,  1.15845692e+00,\n",
       "              -1.92588711e+00, -7.87153304e-01,  3.35783458e+00, -2.22958660e+00,\n",
       "              -2.22737360e+00, -9.95514214e-01,  3.20838511e-01,  1.83832121e+00,\n",
       "              -7.26761147e-02,  1.93525225e-01, -3.94404507e+00, -3.97500135e-02,\n",
       "               7.21592128e-01,  8.66568327e-01, -4.68930341e-02,  2.77721882e+00,\n",
       "               4.89062779e-02,  1.60987139e+00, -1.42074025e+00,  1.42926955e+00,\n",
       "               3.00437331e+00, -6.77418232e-01, -2.07971692e+00, -1.17643118e+00,\n",
       "              -7.06316650e-01, -2.42149305e+00, -8.00323606e-01,  1.84593844e+00,\n",
       "              -2.12789893e+00, -1.74348319e+00, -3.23814988e+00,  7.09980071e-01,\n",
       "              -6.90773070e-01,  1.77074179e-01,  1.86148858e+00,  4.75586066e-03,\n",
       "               2.23264647e+00,  4.86298114e-01,  1.76431715e+00, -3.38813066e-01,\n",
       "              -4.47340339e-01,  5.17394245e-02, -1.90964305e+00, -1.77255213e+00,\n",
       "              -6.80518210e-01, -1.69892281e-01,  1.77181268e+00, -4.79926974e-01,\n",
       "              -1.34879827e+00,  9.27281201e-01, -1.33017635e+00, -7.21768320e-01,\n",
       "               1.56980419e+00,  2.10031033e+00, -5.77976048e-01, -8.22056234e-01,\n",
       "              -1.74698755e-01, -1.63194358e+00, -2.41733760e-01,  3.66396755e-01,\n",
       "              -3.21572757e+00, -1.84217226e-02, -3.04981589e-01,  9.57331419e-01,\n",
       "              -8.61598611e-01, -1.11325300e+00, -3.93988311e-01, -2.64997697e+00,\n",
       "               2.07277083e+00,  7.35198021e-01, -3.22874022e+00,  1.05616403e+00,\n",
       "              -7.81501055e-01, -2.00472802e-01,  1.81364095e+00,  9.76864457e-01,\n",
       "              -1.01549733e+00,  2.11819434e+00,  6.74541712e-01,  2.89780259e+00,\n",
       "              -1.18646681e-01, -2.08992529e+00, -1.00443184e+00, -2.57714123e-01,\n",
       "              -2.33819222e+00,  1.21109986e+00, -4.85605985e-01,  1.18648839e+00,\n",
       "              -1.93434262e+00, -1.34659481e+00,  4.21625003e-02,  2.38573933e+00,\n",
       "               1.86020637e+00,  2.84689367e-01,  1.86504042e+00, -2.31471252e+00,\n",
       "              -5.02602104e-03,  1.64583516e+00,  1.24181271e+00,  1.36139834e+00,\n",
       "              -1.69403207e+00,  1.31667340e+00, -2.11903736e-01, -4.28961158e-01,\n",
       "              -6.66392803e-01,  6.15230322e-01,  1.78879642e+00,  2.12962672e-01,\n",
       "              -9.16945755e-01,  1.25776529e+00, -2.05666184e+00,  3.57288569e-01,\n",
       "               6.64610684e-01,  2.48940659e+00,  5.50435841e-01, -1.57019997e+00,\n",
       "              -4.92991638e+00,  3.73200268e-01,  2.38666385e-01, -2.14541626e+00,\n",
       "               1.62653399e+00,  1.12041265e-01, -5.70523560e-01,  1.51355886e+00,\n",
       "               3.05729419e-01,  4.20158243e+00,  2.90115213e+00,  1.83541393e+00,\n",
       "               1.85553420e+00, -5.10614574e-01, -1.78679764e-01,  2.40400195e+00,\n",
       "              -3.37941456e+00,  1.85808271e-01,  1.20859528e+00, -6.93456769e-01,\n",
       "               7.30727836e-02, -2.07817149e+00,  9.26647246e-01, -5.03130198e-01,\n",
       "               1.61446273e+00, -1.98164320e+00, -1.45088899e+00,  1.68833566e+00,\n",
       "               5.65199256e-01, -6.32504821e-02,  8.87428224e-01,  8.85214508e-01,\n",
       "               2.88758206e+00, -8.02070022e-01,  1.42399356e-01,  9.94600534e-01,\n",
       "              -1.45066738e+00,  3.75998318e-01,  5.96425712e-01, -8.90715539e-01,\n",
       "              -6.31602332e-02, -3.96267265e-01, -9.72823203e-01,  1.08084548e+00,\n",
       "               6.81549549e-01, -4.56178635e-01, -2.87293434e+00,  8.52931321e-01],\n",
       "             dtype=float32)                                                       ,\n",
       "       array([-2.8649769e+00,  1.8136444e-02, -1.0462892e+00,  1.3887080e+00,\n",
       "               5.5558534e+00,  1.6002335e-02,  7.4309033e-01,  3.9127347e+00,\n",
       "               1.3849685e+00, -7.8076237e-01,  5.0233941e+00,  1.5101320e+00,\n",
       "              -3.2447159e+00,  1.4220599e+00, -4.7463126e-02,  2.1743128e+00,\n",
       "               6.0740229e-02,  1.0109566e+00, -1.1673332e+00, -1.4296573e+00,\n",
       "               9.4537753e-01, -4.4597360e-01, -1.5575420e+00,  2.3165519e+00,\n",
       "               1.7779106e+00, -1.3162916e+00, -2.9532142e+00, -1.0647351e+00,\n",
       "              -6.9214166e-03,  1.2708167e+00,  4.4872454e-01, -8.4943019e-02,\n",
       "               2.3614556e-01, -2.6851416e+00, -3.2613869e+00, -1.5515488e+00,\n",
       "              -1.5127009e+00,  1.5308337e+00, -4.0626547e-01, -4.7138742e-01,\n",
       "              -3.0750471e-01,  2.4583229e-01, -5.4041386e-01,  9.4093341e-01,\n",
       "              -1.4280882e+00,  6.8466282e-01, -5.8846825e-01, -3.6517075e-01,\n",
       "               8.7463140e-02,  7.1276337e-01, -1.8429906e+00,  2.2248085e+00,\n",
       "              -3.4250122e-01, -4.6913562e+00, -1.8723936e-01,  8.8805062e-01,\n",
       "              -5.0344603e-05,  3.0929631e-02,  9.2123264e-01, -1.0680851e+00,\n",
       "              -9.5325929e-01, -1.3820293e+00,  7.4886560e-01, -8.8360715e-01,\n",
       "               2.8923395e+00,  8.5205835e-01, -1.7769411e+00, -1.4381714e+00,\n",
       "               1.5744355e+00,  1.6303873e+00, -7.1296984e-01, -6.7884147e-01,\n",
       "              -1.9688491e+00, -2.6965269e-01,  2.9136220e-02,  1.3978428e+00,\n",
       "              -2.8587294e+00,  3.3268704e+00, -2.8224931e+00,  8.3742273e-01,\n",
       "              -3.1490290e+00,  8.2963532e-01, -2.3979461e-01,  7.5510800e-01,\n",
       "               3.0738907e+00,  1.0002064e+00, -3.1159041e+00, -3.1531243e+00,\n",
       "               5.3487659e-01, -9.1272116e-01, -1.3751103e+00, -1.6219459e-01,\n",
       "               2.2453654e+00, -1.7834632e+00,  4.4541740e-01, -9.4517475e-01,\n",
       "               1.2595001e+00, -7.2065532e-01,  5.8869737e-01,  2.2223315e+00,\n",
       "               2.7524316e+00,  7.9948342e-01,  3.1729414e+00,  3.1526742e+00,\n",
       "              -3.2116675e-01,  3.4149745e+00,  1.2661812e+00, -2.0953491e+00,\n",
       "               4.6596700e-01, -3.3922377e+00,  1.1045280e+00,  1.7401685e+00,\n",
       "              -2.1107199e+00,  2.1313228e-01,  1.4020410e+00, -1.7221110e-01,\n",
       "              -2.2692722e-01,  3.4478626e-01,  2.5086761e-01, -5.3612435e-01,\n",
       "               1.0109974e+00, -3.3448372e+00,  1.8702474e+00,  9.4597268e-01,\n",
       "              -1.2969729e+00, -3.5086803e+00,  1.1606129e+00, -2.4407306e+00,\n",
       "               2.8684444e+00, -1.2224960e+00, -3.3833416e+00,  4.4216755e-01,\n",
       "               3.8191013e+00, -2.9423365e-01, -4.3894008e-02,  9.0980536e-01,\n",
       "              -2.0726798e+00, -5.1061317e-02,  1.2393601e+00, -2.2331290e+00,\n",
       "              -1.2103895e+00, -1.2909280e-01, -3.9849642e-01,  1.3729389e+00,\n",
       "               2.3596601e+00,  1.4572258e+00, -3.8281107e+00, -4.0017283e-01,\n",
       "               1.4111271e+00,  7.2817600e-01,  1.5371372e+00,  1.8572451e+00,\n",
       "               4.8612282e-01,  1.6186563e+00, -1.1687737e+00,  2.8712988e-02,\n",
       "               2.0183718e+00, -1.1673266e+00, -1.3096073e+00, -7.8717685e-01,\n",
       "              -7.8849417e-01, -1.5154706e+00,  8.9606255e-01,  2.8021941e+00,\n",
       "              -1.1410582e+00, -1.0295835e+00, -2.6138506e+00,  6.0092443e-01,\n",
       "               9.1994476e-01,  1.5532298e+00,  1.3106662e+00, -3.1638335e-02,\n",
       "               1.6077889e+00,  3.1678769e-01,  6.8533105e-01,  1.0744973e+00,\n",
       "              -1.6432475e-01, -2.2944316e-01, -3.3582463e+00, -7.7291942e-01,\n",
       "              -1.7059723e+00, -4.6619263e-02, -8.6990200e-02,  1.1870753e-01,\n",
       "              -5.2026325e-01,  7.4484825e-01, -1.1536590e+00,  1.8688997e+00,\n",
       "               4.0298998e-01,  5.1050687e-01, -7.0526391e-02, -2.8199518e+00,\n",
       "               7.6074076e-01, -2.1003315e+00,  1.4841911e+00,  2.0255527e+00,\n",
       "              -2.8019426e+00, -8.7143946e-01, -4.5804673e-01,  4.6350408e-01,\n",
       "              -5.3972417e-01, -1.4733707e+00,  4.7260422e-01, -2.2388206e+00,\n",
       "               4.8316059e+00,  5.3865391e-01, -3.4653184e+00,  2.1641200e+00,\n",
       "               1.7794934e-01,  3.2905862e-02,  1.2469558e+00,  1.4748645e+00,\n",
       "              -2.0515158e+00,  4.2814365e-01,  1.7684261e+00,  2.5122774e+00,\n",
       "               1.0331036e+00, -2.6562848e+00, -2.0381579e-01, -2.5743344e-01,\n",
       "              -1.3564208e+00,  2.2457399e+00, -5.8015114e-01, -3.2421613e-01,\n",
       "              -3.2823713e+00, -1.4442569e+00,  5.6119055e-01,  2.7682602e+00,\n",
       "               1.5167550e+00, -3.8793498e-01,  3.8807590e+00, -2.2691002e+00,\n",
       "              -2.8410232e-01,  2.6574411e+00,  1.9746641e+00,  2.9710240e+00,\n",
       "              -1.0467275e+00,  1.7569466e-01, -8.8142556e-01, -6.8819171e-01,\n",
       "              -3.4736881e-01, -3.1105059e-01,  1.1683218e+00,  3.4073892e-01,\n",
       "              -2.0696409e+00,  1.6292101e+00, -3.0815933e+00,  2.2936040e-01,\n",
       "               3.4776759e-01,  2.0278616e+00,  1.4370155e+00, -3.4031422e+00,\n",
       "              -5.2684345e+00,  2.4738258e-01,  1.0141985e+00, -1.9316823e+00,\n",
       "               2.1955786e+00, -8.5689855e-01,  9.6661329e-01,  5.8322871e-01,\n",
       "               2.6823518e-01,  4.3093777e+00,  2.8221946e+00,  9.7984755e-01,\n",
       "               2.2786853e+00, -1.1502931e+00, -3.2961833e-01,  2.0091507e+00,\n",
       "              -2.1309316e+00,  2.5973386e-01,  2.2396633e-01,  6.3828182e-01,\n",
       "               1.1795521e+00, -2.1668835e+00,  1.3283577e+00,  2.5497871e-02,\n",
       "               1.5296266e+00, -2.5507851e+00,  4.0468562e-02,  1.6144807e+00,\n",
       "               2.7558537e+00,  7.5181073e-01,  1.1969925e+00,  1.0978792e+00,\n",
       "               1.1271335e+00, -1.0663511e+00, -3.9340222e-01,  1.2495495e+00,\n",
       "              -6.9673800e-01, -1.9983912e-01,  1.3838878e-02,  6.5701157e-01,\n",
       "              -1.4037100e+00,  4.3728924e-01, -1.0968105e+00,  2.1086211e+00,\n",
       "              -1.7826974e-01, -2.8005648e+00, -9.0682799e-01,  1.4209157e-01],\n",
       "             dtype=float32)                                                   ,\n",
       "       array([-2.444136  ,  0.47068468, -2.1141195 ,  0.6329075 ,  4.3860936 ,\n",
       "               0.5948817 ,  0.5194315 ,  5.2835555 ,  0.03927447, -1.2886034 ,\n",
       "               5.64287   ,  1.4224983 , -2.9094968 ,  1.2702117 ,  0.66335106,\n",
       "               2.3878405 , -0.14903893, -0.13734818, -0.8447886 , -1.591833  ,\n",
       "               1.15149   , -0.7604435 , -1.1736631 , -0.5775907 , -0.0620954 ,\n",
       "              -1.1997951 , -2.3751047 , -0.98337317,  0.00892548,  1.5630418 ,\n",
       "               0.94829154, -0.24582146, -0.41738486, -2.7102628 , -2.6224566 ,\n",
       "              -0.99115556, -1.1101441 ,  0.9989507 ,  0.93655366,  0.67234653,\n",
       "               0.4457894 ,  0.5782272 ,  0.18328741,  0.40952167, -1.2735665 ,\n",
       "               1.4978583 ,  0.10352265, -1.8828623 , -0.7406062 ,  2.126664  ,\n",
       "              -1.6242038 ,  1.673311  ,  0.17451717, -4.311752  , -0.52423686,\n",
       "               0.5036674 ,  0.09267084,  0.9383611 ,  1.4751903 , -0.22493449,\n",
       "              -0.28351027, -0.4896627 ,  0.5046066 , -1.6107417 ,  2.6534443 ,\n",
       "               1.8801678 , -2.4570928 , -2.1634262 ,  0.3434412 ,  2.2267754 ,\n",
       "               0.3421372 , -1.2881749 , -1.7548033 ,  0.40616322, -0.36824498,\n",
       "               1.4694624 , -2.6309683 ,  2.1743636 , -3.1411657 ,  0.35884333,\n",
       "              -4.0586233 , -0.17742051,  1.0527871 ,  0.8755196 ,  2.8398042 ,\n",
       "              -0.37268606, -2.337146  , -3.257692  ,  0.5902951 , -0.83100176,\n",
       "              -1.3054588 ,  0.16976675,  1.7313725 , -3.2922003 ,  0.85324436,\n",
       "              -1.30666   ,  0.6430105 , -1.4834162 ,  1.1594887 ,  1.6325084 ,\n",
       "               2.4958715 ,  1.2339872 ,  1.8794203 ,  3.3051934 , -0.428562  ,\n",
       "               3.6416655 ,  0.10694358, -2.2727766 , -0.11951144, -3.337503  ,\n",
       "               0.8288886 ,  0.2345191 , -1.3359851 ,  0.8727507 ,  0.55910146,\n",
       "               0.3966075 , -0.6757799 , -0.12229782, -0.43914083, -0.7220981 ,\n",
       "              -0.14518763, -2.595824  ,  0.78653485,  0.656764  , -1.5319833 ,\n",
       "              -2.625127  ,  0.8331434 , -1.8293604 ,  2.504527  , -1.3142258 ,\n",
       "              -2.1690602 , -0.8841712 ,  3.8940132 , -0.3699151 ,  0.12506668,\n",
       "               0.8179031 , -1.8949354 , -0.07954574,  2.8216045 , -2.3873215 ,\n",
       "              -1.4967377 , -0.79817146,  0.80679554,  1.5445607 ,  0.7338548 ,\n",
       "               0.8326901 , -3.7950318 , -0.8337333 ,  1.2091743 ,  1.1751    ,\n",
       "              -0.23115508,  1.9126953 ,  0.2445237 ,  1.601546  , -1.3302048 ,\n",
       "               1.0260563 ,  2.4192824 , -0.999807  , -2.2749987 , -1.387553  ,\n",
       "              -0.50921595, -2.4408877 ,  0.09882888,  1.746205  , -2.6027527 ,\n",
       "              -1.3309361 , -3.481242  ,  1.1019213 , -0.5365301 ,  1.1874824 ,\n",
       "               1.3028338 ,  0.20713404,  2.2243848 ,  0.5569543 ,  1.1331203 ,\n",
       "               0.45284835, -0.95840496, -0.22251466, -2.6185608 , -1.2740132 ,\n",
       "              -1.418374  ,  0.18721157,  1.0736401 ,  0.5101178 , -1.6771635 ,\n",
       "               1.3956132 , -1.7502506 , -0.27969316,  1.1113394 ,  2.0397384 ,\n",
       "               0.02924219, -1.4172249 , -0.14951442, -1.6674886 , -0.43821746,\n",
       "               0.338206  , -2.9113033 , -0.49160624,  0.02298033,  1.5016482 ,\n",
       "              -0.94002956, -1.490892  ,  0.4279643 , -2.6922836 ,  3.2801502 ,\n",
       "               1.1844921 , -3.0247886 ,  0.687459  , -0.2953702 ,  0.28133017,\n",
       "               1.4737993 ,  0.90763545, -1.2662412 ,  2.3624902 ,  0.7555263 ,\n",
       "               2.378827  ,  0.33366057, -1.8488696 , -0.88847464,  0.17879392,\n",
       "              -2.3962808 ,  1.150759  , -0.17304058,  0.79382825, -1.9197476 ,\n",
       "              -1.0105194 ,  0.42135155,  2.8009348 ,  1.6401699 ,  0.4291421 ,\n",
       "               2.4491003 , -2.252599  , -0.39946398,  1.7015607 ,  1.8080114 ,\n",
       "               1.6574991 , -1.1122361 ,  0.5547209 , -0.19685198, -0.46102414,\n",
       "              -0.7884116 ,  0.51689154,  0.9385778 ,  0.4007202 , -0.87112045,\n",
       "               1.362579  , -2.063062  ,  0.86918813,  0.57083994,  2.6838288 ,\n",
       "               0.59307534, -1.5896661 , -4.59919   ,  0.44069934,  0.5923717 ,\n",
       "              -2.0985765 ,  1.9988898 ,  0.04103795,  0.889294  ,  1.5503865 ,\n",
       "               0.0303439 ,  4.0252094 ,  2.7726185 ,  2.1794941 ,  1.6416906 ,\n",
       "              -0.56972164,  0.25924546,  1.7737254 , -3.4941692 ,  0.28695264,\n",
       "               0.92460334, -0.65618324,  0.95961475, -1.40395   ,  0.5940387 ,\n",
       "              -0.51422465,  1.5834938 , -1.9168669 , -0.8611357 ,  2.053034  ,\n",
       "               1.546942  , -0.01367456,  0.8910349 ,  0.7174453 ,  2.6871345 ,\n",
       "              -0.9781847 , -0.08385462,  1.0749034 , -1.5675646 ,  0.07746821,\n",
       "               0.46213093, -0.7776916 , -0.9707355 ,  0.27345416, -0.97324896,\n",
       "               1.816751  ,  0.5457071 , -0.84001374, -2.1663854 ,  0.4640902 ],\n",
       "             dtype=float32)                                                    ],\n",
       "      dtype=object)"
      ]
     },
     "execution_count": 34,
     "metadata": {},
     "output_type": "execute_result"
    }
   ],
   "source": [
    "# X_train is a numpy array of numpy arrays, but to give it as input to a classifier we need to convert it\n",
    "# to a 2-D numpy array. We can do it using np.stack function\n",
    "X_train"
   ]
  },
  {
   "cell_type": "code",
   "execution_count": 35,
   "id": "a6d4fd47",
   "metadata": {},
   "outputs": [],
   "source": [
    "# X_train is a numpy array of numpy arrays, but to give it as input to a classifier we need to convert it\n",
    "# to a 2-D numpy array. We can do it using np.stack function\n",
    "\n",
    "import numpy as np\n",
    "\n",
    "X_train_2d = np.stack(X_train)\n",
    "X_test_2d = np.stack(X_test)"
   ]
  },
  {
   "cell_type": "code",
   "execution_count": 36,
   "id": "71adc147",
   "metadata": {},
   "outputs": [
    {
     "data": {
      "text/plain": [
       "array([[-1.619869  ,  1.3342149 , -1.3558618 , ..., -0.04046927,\n",
       "        -2.761496  ,  0.7598182 ],\n",
       "       [-2.3222246 ,  0.7897645 , -1.8041078 , ..., -0.9577217 ,\n",
       "        -2.373393  ,  0.5841433 ],\n",
       "       [-1.2018781 ,  1.4973024 , -2.5473328 , ..., -0.92211866,\n",
       "        -2.9232326 ,  1.4042891 ],\n",
       "       ...,\n",
       "       [-1.7931817 ,  1.1534967 , -2.06488   , ..., -0.45617864,\n",
       "        -2.8729343 ,  0.8529313 ],\n",
       "       [-2.864977  ,  0.01813644, -1.0462892 , ..., -2.8005648 ,\n",
       "        -0.906828  ,  0.14209157],\n",
       "       [-2.444136  ,  0.47068468, -2.1141195 , ..., -0.84001374,\n",
       "        -2.1663854 ,  0.4640902 ]], dtype=float32)"
      ]
     },
     "execution_count": 36,
     "metadata": {},
     "output_type": "execute_result"
    }
   ],
   "source": [
    "X_train_2d"
   ]
  },
  {
   "cell_type": "code",
   "execution_count": 37,
   "id": "ad3aa1fb",
   "metadata": {},
   "outputs": [
    {
     "ename": "ValueError",
     "evalue": "Negative values in data passed to MultinomialNB (input X)",
     "output_type": "error",
     "traceback": [
      "\u001b[1;31m---------------------------------------------------------------------------\u001b[0m",
      "\u001b[1;31mValueError\u001b[0m                                Traceback (most recent call last)",
      "Cell \u001b[1;32mIn[37], line 4\u001b[0m\n\u001b[0;32m      1\u001b[0m \u001b[38;5;28;01mfrom\u001b[39;00m \u001b[38;5;21;01msklearn\u001b[39;00m\u001b[38;5;21;01m.\u001b[39;00m\u001b[38;5;21;01mnaive_bayes\u001b[39;00m \u001b[38;5;28;01mimport\u001b[39;00m MultinomialNB\n\u001b[0;32m      3\u001b[0m clf \u001b[38;5;241m=\u001b[39m MultinomialNB()\n\u001b[1;32m----> 4\u001b[0m clf\u001b[38;5;241m.\u001b[39mfit(X_train_2d,y_train)\n",
      "File \u001b[1;32m~\\anaconda3\\Lib\\site-packages\\sklearn\\base.py:1151\u001b[0m, in \u001b[0;36m_fit_context.<locals>.decorator.<locals>.wrapper\u001b[1;34m(estimator, *args, **kwargs)\u001b[0m\n\u001b[0;32m   1144\u001b[0m     estimator\u001b[38;5;241m.\u001b[39m_validate_params()\n\u001b[0;32m   1146\u001b[0m \u001b[38;5;28;01mwith\u001b[39;00m config_context(\n\u001b[0;32m   1147\u001b[0m     skip_parameter_validation\u001b[38;5;241m=\u001b[39m(\n\u001b[0;32m   1148\u001b[0m         prefer_skip_nested_validation \u001b[38;5;129;01mor\u001b[39;00m global_skip_validation\n\u001b[0;32m   1149\u001b[0m     )\n\u001b[0;32m   1150\u001b[0m ):\n\u001b[1;32m-> 1151\u001b[0m     \u001b[38;5;28;01mreturn\u001b[39;00m fit_method(estimator, \u001b[38;5;241m*\u001b[39margs, \u001b[38;5;241m*\u001b[39m\u001b[38;5;241m*\u001b[39mkwargs)\n",
      "File \u001b[1;32m~\\anaconda3\\Lib\\site-packages\\sklearn\\naive_bayes.py:772\u001b[0m, in \u001b[0;36m_BaseDiscreteNB.fit\u001b[1;34m(self, X, y, sample_weight)\u001b[0m\n\u001b[0;32m    770\u001b[0m n_classes \u001b[38;5;241m=\u001b[39m Y\u001b[38;5;241m.\u001b[39mshape[\u001b[38;5;241m1\u001b[39m]\n\u001b[0;32m    771\u001b[0m \u001b[38;5;28mself\u001b[39m\u001b[38;5;241m.\u001b[39m_init_counters(n_classes, n_features)\n\u001b[1;32m--> 772\u001b[0m \u001b[38;5;28mself\u001b[39m\u001b[38;5;241m.\u001b[39m_count(X, Y)\n\u001b[0;32m    773\u001b[0m alpha \u001b[38;5;241m=\u001b[39m \u001b[38;5;28mself\u001b[39m\u001b[38;5;241m.\u001b[39m_check_alpha()\n\u001b[0;32m    774\u001b[0m \u001b[38;5;28mself\u001b[39m\u001b[38;5;241m.\u001b[39m_update_feature_log_prob(alpha)\n",
      "File \u001b[1;32m~\\anaconda3\\Lib\\site-packages\\sklearn\\naive_bayes.py:894\u001b[0m, in \u001b[0;36mMultinomialNB._count\u001b[1;34m(self, X, Y)\u001b[0m\n\u001b[0;32m    892\u001b[0m \u001b[38;5;28;01mdef\u001b[39;00m \u001b[38;5;21m_count\u001b[39m(\u001b[38;5;28mself\u001b[39m, X, Y):\n\u001b[0;32m    893\u001b[0m \u001b[38;5;250m    \u001b[39m\u001b[38;5;124;03m\"\"\"Count and smooth feature occurrences.\"\"\"\u001b[39;00m\n\u001b[1;32m--> 894\u001b[0m     check_non_negative(X, \u001b[38;5;124m\"\u001b[39m\u001b[38;5;124mMultinomialNB (input X)\u001b[39m\u001b[38;5;124m\"\u001b[39m)\n\u001b[0;32m    895\u001b[0m     \u001b[38;5;28mself\u001b[39m\u001b[38;5;241m.\u001b[39mfeature_count_ \u001b[38;5;241m+\u001b[39m\u001b[38;5;241m=\u001b[39m safe_sparse_dot(Y\u001b[38;5;241m.\u001b[39mT, X)\n\u001b[0;32m    896\u001b[0m     \u001b[38;5;28mself\u001b[39m\u001b[38;5;241m.\u001b[39mclass_count_ \u001b[38;5;241m+\u001b[39m\u001b[38;5;241m=\u001b[39m Y\u001b[38;5;241m.\u001b[39msum(axis\u001b[38;5;241m=\u001b[39m\u001b[38;5;241m0\u001b[39m)\n",
      "File \u001b[1;32m~\\anaconda3\\Lib\\site-packages\\sklearn\\utils\\validation.py:1490\u001b[0m, in \u001b[0;36mcheck_non_negative\u001b[1;34m(X, whom)\u001b[0m\n\u001b[0;32m   1487\u001b[0m     X_min \u001b[38;5;241m=\u001b[39m xp\u001b[38;5;241m.\u001b[39mmin(X)\n\u001b[0;32m   1489\u001b[0m \u001b[38;5;28;01mif\u001b[39;00m X_min \u001b[38;5;241m<\u001b[39m \u001b[38;5;241m0\u001b[39m:\n\u001b[1;32m-> 1490\u001b[0m     \u001b[38;5;28;01mraise\u001b[39;00m \u001b[38;5;167;01mValueError\u001b[39;00m(\u001b[38;5;124m\"\u001b[39m\u001b[38;5;124mNegative values in data passed to \u001b[39m\u001b[38;5;132;01m%s\u001b[39;00m\u001b[38;5;124m\"\u001b[39m \u001b[38;5;241m%\u001b[39m whom)\n",
      "\u001b[1;31mValueError\u001b[0m: Negative values in data passed to MultinomialNB (input X)"
     ]
    }
   ],
   "source": [
    "from sklearn.naive_bayes import MultinomialNB\n",
    "\n",
    "clf = MultinomialNB()\n",
    "clf.fit(X_train_2d,y_train)"
   ]
  },
  {
   "cell_type": "code",
   "execution_count": 38,
   "id": "c8cb74eb",
   "metadata": {},
   "outputs": [],
   "source": [
    "# MultinomialNB doesn't accept negative values as input so lets use a scaler\n",
    "\n",
    "from sklearn.preprocessing import MinMaxScaler\n",
    "\n",
    "scaler = MinMaxScaler()\n",
    "scaled_train_embed = scaler.fit_transform(X_train_2d)\n",
    "scaled_test_embed = scaler.transform(X_test_2d)"
   ]
  },
  {
   "cell_type": "code",
   "execution_count": 39,
   "id": "06b87eaf",
   "metadata": {},
   "outputs": [
    {
     "data": {
      "text/html": [
       "<style>#sk-container-id-1 {color: black;}#sk-container-id-1 pre{padding: 0;}#sk-container-id-1 div.sk-toggleable {background-color: white;}#sk-container-id-1 label.sk-toggleable__label {cursor: pointer;display: block;width: 100%;margin-bottom: 0;padding: 0.3em;box-sizing: border-box;text-align: center;}#sk-container-id-1 label.sk-toggleable__label-arrow:before {content: \"▸\";float: left;margin-right: 0.25em;color: #696969;}#sk-container-id-1 label.sk-toggleable__label-arrow:hover:before {color: black;}#sk-container-id-1 div.sk-estimator:hover label.sk-toggleable__label-arrow:before {color: black;}#sk-container-id-1 div.sk-toggleable__content {max-height: 0;max-width: 0;overflow: hidden;text-align: left;background-color: #f0f8ff;}#sk-container-id-1 div.sk-toggleable__content pre {margin: 0.2em;color: black;border-radius: 0.25em;background-color: #f0f8ff;}#sk-container-id-1 input.sk-toggleable__control:checked~div.sk-toggleable__content {max-height: 200px;max-width: 100%;overflow: auto;}#sk-container-id-1 input.sk-toggleable__control:checked~label.sk-toggleable__label-arrow:before {content: \"▾\";}#sk-container-id-1 div.sk-estimator input.sk-toggleable__control:checked~label.sk-toggleable__label {background-color: #d4ebff;}#sk-container-id-1 div.sk-label input.sk-toggleable__control:checked~label.sk-toggleable__label {background-color: #d4ebff;}#sk-container-id-1 input.sk-hidden--visually {border: 0;clip: rect(1px 1px 1px 1px);clip: rect(1px, 1px, 1px, 1px);height: 1px;margin: -1px;overflow: hidden;padding: 0;position: absolute;width: 1px;}#sk-container-id-1 div.sk-estimator {font-family: monospace;background-color: #f0f8ff;border: 1px dotted black;border-radius: 0.25em;box-sizing: border-box;margin-bottom: 0.5em;}#sk-container-id-1 div.sk-estimator:hover {background-color: #d4ebff;}#sk-container-id-1 div.sk-parallel-item::after {content: \"\";width: 100%;border-bottom: 1px solid gray;flex-grow: 1;}#sk-container-id-1 div.sk-label:hover label.sk-toggleable__label {background-color: #d4ebff;}#sk-container-id-1 div.sk-serial::before {content: \"\";position: absolute;border-left: 1px solid gray;box-sizing: border-box;top: 0;bottom: 0;left: 50%;z-index: 0;}#sk-container-id-1 div.sk-serial {display: flex;flex-direction: column;align-items: center;background-color: white;padding-right: 0.2em;padding-left: 0.2em;position: relative;}#sk-container-id-1 div.sk-item {position: relative;z-index: 1;}#sk-container-id-1 div.sk-parallel {display: flex;align-items: stretch;justify-content: center;background-color: white;position: relative;}#sk-container-id-1 div.sk-item::before, #sk-container-id-1 div.sk-parallel-item::before {content: \"\";position: absolute;border-left: 1px solid gray;box-sizing: border-box;top: 0;bottom: 0;left: 50%;z-index: -1;}#sk-container-id-1 div.sk-parallel-item {display: flex;flex-direction: column;z-index: 1;position: relative;background-color: white;}#sk-container-id-1 div.sk-parallel-item:first-child::after {align-self: flex-end;width: 50%;}#sk-container-id-1 div.sk-parallel-item:last-child::after {align-self: flex-start;width: 50%;}#sk-container-id-1 div.sk-parallel-item:only-child::after {width: 0;}#sk-container-id-1 div.sk-dashed-wrapped {border: 1px dashed gray;margin: 0 0.4em 0.5em 0.4em;box-sizing: border-box;padding-bottom: 0.4em;background-color: white;}#sk-container-id-1 div.sk-label label {font-family: monospace;font-weight: bold;display: inline-block;line-height: 1.2em;}#sk-container-id-1 div.sk-label-container {text-align: center;}#sk-container-id-1 div.sk-container {/* jupyter's `normalize.less` sets `[hidden] { display: none; }` but bootstrap.min.css set `[hidden] { display: none !important; }` so we also need the `!important` here to be able to override the default hidden behavior on the sphinx rendered scikit-learn.org. See: https://github.com/scikit-learn/scikit-learn/issues/21755 */display: inline-block !important;position: relative;}#sk-container-id-1 div.sk-text-repr-fallback {display: none;}</style><div id=\"sk-container-id-1\" class=\"sk-top-container\"><div class=\"sk-text-repr-fallback\"><pre>MultinomialNB()</pre><b>In a Jupyter environment, please rerun this cell to show the HTML representation or trust the notebook. <br />On GitHub, the HTML representation is unable to render, please try loading this page with nbviewer.org.</b></div><div class=\"sk-container\" hidden><div class=\"sk-item\"><div class=\"sk-estimator sk-toggleable\"><input class=\"sk-toggleable__control sk-hidden--visually\" id=\"sk-estimator-id-1\" type=\"checkbox\" checked><label for=\"sk-estimator-id-1\" class=\"sk-toggleable__label sk-toggleable__label-arrow\">MultinomialNB</label><div class=\"sk-toggleable__content\"><pre>MultinomialNB()</pre></div></div></div></div></div>"
      ],
      "text/plain": [
       "MultinomialNB()"
      ]
     },
     "execution_count": 39,
     "metadata": {},
     "output_type": "execute_result"
    }
   ],
   "source": [
    "clf.fit(scaled_train_embed, y_train)"
   ]
  },
  {
   "cell_type": "code",
   "execution_count": 40,
   "id": "15e20f74",
   "metadata": {},
   "outputs": [],
   "source": [
    "y_pred = clf.predict(scaled_test_embed)"
   ]
  },
  {
   "cell_type": "code",
   "execution_count": 42,
   "id": "5bdb8565",
   "metadata": {},
   "outputs": [
    {
     "name": "stdout",
     "output_type": "stream",
     "text": [
      "              precision    recall  f1-score   support\n",
      "\n",
      "           0       0.80      0.70      0.74       615\n",
      "           1       0.74      0.83      0.79       652\n",
      "\n",
      "    accuracy                           0.77      1267\n",
      "   macro avg       0.77      0.77      0.77      1267\n",
      "weighted avg       0.77      0.77      0.77      1267\n",
      "\n"
     ]
    }
   ],
   "source": [
    "from sklearn.metrics import classification_report\n",
    "\n",
    "print(classification_report(y_test, y_pred))"
   ]
  },
  {
   "cell_type": "code",
   "execution_count": 45,
   "id": "7d1e7a0a",
   "metadata": {},
   "outputs": [
    {
     "data": {
      "text/html": [
       "<style>#sk-container-id-2 {color: black;}#sk-container-id-2 pre{padding: 0;}#sk-container-id-2 div.sk-toggleable {background-color: white;}#sk-container-id-2 label.sk-toggleable__label {cursor: pointer;display: block;width: 100%;margin-bottom: 0;padding: 0.3em;box-sizing: border-box;text-align: center;}#sk-container-id-2 label.sk-toggleable__label-arrow:before {content: \"▸\";float: left;margin-right: 0.25em;color: #696969;}#sk-container-id-2 label.sk-toggleable__label-arrow:hover:before {color: black;}#sk-container-id-2 div.sk-estimator:hover label.sk-toggleable__label-arrow:before {color: black;}#sk-container-id-2 div.sk-toggleable__content {max-height: 0;max-width: 0;overflow: hidden;text-align: left;background-color: #f0f8ff;}#sk-container-id-2 div.sk-toggleable__content pre {margin: 0.2em;color: black;border-radius: 0.25em;background-color: #f0f8ff;}#sk-container-id-2 input.sk-toggleable__control:checked~div.sk-toggleable__content {max-height: 200px;max-width: 100%;overflow: auto;}#sk-container-id-2 input.sk-toggleable__control:checked~label.sk-toggleable__label-arrow:before {content: \"▾\";}#sk-container-id-2 div.sk-estimator input.sk-toggleable__control:checked~label.sk-toggleable__label {background-color: #d4ebff;}#sk-container-id-2 div.sk-label input.sk-toggleable__control:checked~label.sk-toggleable__label {background-color: #d4ebff;}#sk-container-id-2 input.sk-hidden--visually {border: 0;clip: rect(1px 1px 1px 1px);clip: rect(1px, 1px, 1px, 1px);height: 1px;margin: -1px;overflow: hidden;padding: 0;position: absolute;width: 1px;}#sk-container-id-2 div.sk-estimator {font-family: monospace;background-color: #f0f8ff;border: 1px dotted black;border-radius: 0.25em;box-sizing: border-box;margin-bottom: 0.5em;}#sk-container-id-2 div.sk-estimator:hover {background-color: #d4ebff;}#sk-container-id-2 div.sk-parallel-item::after {content: \"\";width: 100%;border-bottom: 1px solid gray;flex-grow: 1;}#sk-container-id-2 div.sk-label:hover label.sk-toggleable__label {background-color: #d4ebff;}#sk-container-id-2 div.sk-serial::before {content: \"\";position: absolute;border-left: 1px solid gray;box-sizing: border-box;top: 0;bottom: 0;left: 50%;z-index: 0;}#sk-container-id-2 div.sk-serial {display: flex;flex-direction: column;align-items: center;background-color: white;padding-right: 0.2em;padding-left: 0.2em;position: relative;}#sk-container-id-2 div.sk-item {position: relative;z-index: 1;}#sk-container-id-2 div.sk-parallel {display: flex;align-items: stretch;justify-content: center;background-color: white;position: relative;}#sk-container-id-2 div.sk-item::before, #sk-container-id-2 div.sk-parallel-item::before {content: \"\";position: absolute;border-left: 1px solid gray;box-sizing: border-box;top: 0;bottom: 0;left: 50%;z-index: -1;}#sk-container-id-2 div.sk-parallel-item {display: flex;flex-direction: column;z-index: 1;position: relative;background-color: white;}#sk-container-id-2 div.sk-parallel-item:first-child::after {align-self: flex-end;width: 50%;}#sk-container-id-2 div.sk-parallel-item:last-child::after {align-self: flex-start;width: 50%;}#sk-container-id-2 div.sk-parallel-item:only-child::after {width: 0;}#sk-container-id-2 div.sk-dashed-wrapped {border: 1px dashed gray;margin: 0 0.4em 0.5em 0.4em;box-sizing: border-box;padding-bottom: 0.4em;background-color: white;}#sk-container-id-2 div.sk-label label {font-family: monospace;font-weight: bold;display: inline-block;line-height: 1.2em;}#sk-container-id-2 div.sk-label-container {text-align: center;}#sk-container-id-2 div.sk-container {/* jupyter's `normalize.less` sets `[hidden] { display: none; }` but bootstrap.min.css set `[hidden] { display: none !important; }` so we also need the `!important` here to be able to override the default hidden behavior on the sphinx rendered scikit-learn.org. See: https://github.com/scikit-learn/scikit-learn/issues/21755 */display: inline-block !important;position: relative;}#sk-container-id-2 div.sk-text-repr-fallback {display: none;}</style><div id=\"sk-container-id-2\" class=\"sk-top-container\"><div class=\"sk-text-repr-fallback\"><pre>KNeighborsClassifier(metric=&#x27;euclidean&#x27;)</pre><b>In a Jupyter environment, please rerun this cell to show the HTML representation or trust the notebook. <br />On GitHub, the HTML representation is unable to render, please try loading this page with nbviewer.org.</b></div><div class=\"sk-container\" hidden><div class=\"sk-item\"><div class=\"sk-estimator sk-toggleable\"><input class=\"sk-toggleable__control sk-hidden--visually\" id=\"sk-estimator-id-2\" type=\"checkbox\" checked><label for=\"sk-estimator-id-2\" class=\"sk-toggleable__label sk-toggleable__label-arrow\">KNeighborsClassifier</label><div class=\"sk-toggleable__content\"><pre>KNeighborsClassifier(metric=&#x27;euclidean&#x27;)</pre></div></div></div></div></div>"
      ],
      "text/plain": [
       "KNeighborsClassifier(metric='euclidean')"
      ]
     },
     "execution_count": 45,
     "metadata": {},
     "output_type": "execute_result"
    }
   ],
   "source": [
    "from sklearn.neighbors import KNeighborsClassifier\n",
    "\n",
    "clf1 = KNeighborsClassifier(n_neighbors = 5, metric = 'euclidean')\n",
    "clf1.fit(scaled_train_embed,y_train)"
   ]
  },
  {
   "cell_type": "code",
   "execution_count": 46,
   "id": "a949721a",
   "metadata": {},
   "outputs": [
    {
     "name": "stdout",
     "output_type": "stream",
     "text": [
      "              precision    recall  f1-score   support\n",
      "\n",
      "           0       0.87      0.71      0.78       615\n",
      "           1       0.77      0.90      0.83       652\n",
      "\n",
      "    accuracy                           0.81      1267\n",
      "   macro avg       0.82      0.80      0.80      1267\n",
      "weighted avg       0.82      0.81      0.80      1267\n",
      "\n"
     ]
    }
   ],
   "source": [
    "y_pred1 = clf1.predict(scaled_test_embed)\n",
    "\n",
    "print(classification_report(y_test,y_pred1))"
   ]
  },
  {
   "cell_type": "code",
   "execution_count": 48,
   "id": "52bcfabd",
   "metadata": {},
   "outputs": [
    {
     "name": "stdout",
     "output_type": "stream",
     "text": [
      "              precision    recall  f1-score   support\n",
      "\n",
      "           0       0.84      0.86      0.85       615\n",
      "           1       0.86      0.85      0.86       652\n",
      "\n",
      "    accuracy                           0.85      1267\n",
      "   macro avg       0.85      0.85      0.85      1267\n",
      "weighted avg       0.85      0.85      0.85      1267\n",
      "\n"
     ]
    }
   ],
   "source": [
    "from sklearn.ensemble import RandomForestClassifier\n",
    "\n",
    "clf2 = RandomForestClassifier()\n",
    "clf2.fit(scaled_train_embed,y_train)\n",
    "\n",
    "y_pred2 = clf2.predict(scaled_test_embed)\n",
    "print(classification_report(y_test,y_pred2))"
   ]
  },
  {
   "cell_type": "markdown",
   "id": "f14bcbd3",
   "metadata": {},
   "source": [
    "### Key Takeaways\n",
    "- KNN model which didn't perform well in the vectorization techniques like Bag of words, and TF-IDF due to very high dimensional vector space, performed really well with glove vectors due to only 300-dimensional vectors and very good embeddings(similar and related words have almost similar embeddings) for the given text data.\n",
    "\n",
    "- MultinomialNB model performed decently well but did not come into the top list because in the 300-dimensional vectors we also have the negative values present. The Naive Bayes model does not fit the data if there are negative values. So, to overcome this shortcoming, we have used the Min-Max scaler to bring down all the values between 0 to 1. In this process, there will be a possibility of variance and information loss among the data. But anyhow we got a decent recall and f1 scores."
   ]
  },
  {
   "cell_type": "code",
   "execution_count": null,
   "id": "6ccb39c7",
   "metadata": {},
   "outputs": [],
   "source": []
  }
 ],
 "metadata": {
  "kernelspec": {
   "display_name": "Python 3 (ipykernel)",
   "language": "python",
   "name": "python3"
  },
  "language_info": {
   "codemirror_mode": {
    "name": "ipython",
    "version": 3
   },
   "file_extension": ".py",
   "mimetype": "text/x-python",
   "name": "python",
   "nbconvert_exporter": "python",
   "pygments_lexer": "ipython3",
   "version": "3.11.5"
  }
 },
 "nbformat": 4,
 "nbformat_minor": 5
}
